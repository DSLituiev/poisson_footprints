{
 "cells": [
  {
   "cell_type": "code",
   "execution_count": 63,
   "metadata": {
    "collapsed": false
   },
   "outputs": [
    {
     "name": "stdout",
     "output_type": "stream",
     "text": [
      "The autoreload extension is already loaded. To reload it, use:\n",
      "  %reload_ext autoreload\n"
     ]
    }
   ],
   "source": [
    "import tensorflow as tf\n",
    "import prettytensor as pt\n",
    "from prettytensor.tutorial import data_utils\n",
    "import numpy as np\n",
    "import matplotlib.pyplot as plt \n",
    "import sqlite3\n",
    "\n",
    "from match_dna_atac import get_aligned_batch, get_loader, get_seq_batch, align_shapes\n",
    "%load_ext autoreload\n",
    "%autoreload 2\n",
    "%matplotlib inline"
   ]
  },
  {
   "cell_type": "code",
   "execution_count": 2,
   "metadata": {
    "collapsed": true
   },
   "outputs": [],
   "source": [
    "from prettytensor.pretty_tensor_loss_methods import _convert_and_assert_tensors_compatible,\\\n",
    "    _compute_average_correct, apply_regression"
   ]
  },
  {
   "cell_type": "code",
   "execution_count": 3,
   "metadata": {
    "collapsed": false
   },
   "outputs": [],
   "source": [
    "\"paths to the data sets\"\n",
    "dbdir = \"../data/\"\n",
    "dbpath = dbdir + \"batf_disc1.offsets_1000_1.pivot.db\"\n",
    "conn = sqlite3.connect(dbpath)\n",
    "\n",
    "train_batchloader = get_loader(conn, where={\"chr\": \"chr21\"}, binary=False)\n",
    "test_batchloader = get_loader(conn, where=\"chr = 'chr22'\", binary=False)\n",
    "\n",
    "\n",
    "@pt.Register\n",
    "class custom_deconv2d(pt.VarStoreMethod):\n",
    "    def __call__(self, input_layer, output_shape,\n",
    "                 kernel = 5, d_h=2, d_w=2, stddev=0.02,\n",
    "                 name=\"deconv2d\"):\n",
    "        output_shape[0] = input_layer.shape[0]\n",
    "        ts_output_shape = tf.pack(output_shape)\n",
    "        if type(kernel) is int:\n",
    "          k_h = k_w = kernel\n",
    "        elif len(kernel)>1:\n",
    "          k_h = kernel[0]\n",
    "          k_w = kernel[0]\n",
    "        with tf.variable_scope(name):\n",
    "            # filter : [height, width, output_channels, in_channels]\n",
    "            w = self.variable('w', [k_h, k_w, output_shape[-1], input_layer.shape[-1]],\n",
    "                              init=tf.random_normal_initializer(stddev=stddev))\n",
    "\n",
    "            try:\n",
    "                deconv = tf.nn.conv2d_transpose(input_layer, w,\n",
    "                                                output_shape=ts_output_shape,\n",
    "                                                strides=[1, d_h, d_w, 1])\n",
    "\n",
    "            # Support for versions of TensorFlow before 0.7.0\n",
    "            except AttributeError:\n",
    "                deconv = tf.nn.deconv2d(input_layer, w, output_shape=ts_output_shape,\n",
    "                                        strides=[1, d_h, d_w, 1])\n",
    "\n",
    "            biases = self.variable('biases', [output_shape[-1]], init=tf.constant_initializer(0.0))\n",
    "            deconv = tf.reshape(tf.nn.bias_add(deconv, biases), [-1] + output_shape[1:])\n",
    "\n",
    "            return deconv"
   ]
  },
  {
   "cell_type": "code",
   "execution_count": 4,
   "metadata": {
    "collapsed": false
   },
   "outputs": [],
   "source": [
    "def poisson_loss(y, log_y_predicted, name=\"poisson_loss\"):\n",
    "  y_pred_pos = tf.exp(log_y_predicted)\n",
    "  poisson_loss = tf.reduce_mean(y_pred_pos - y * log_y_predicted,\n",
    "                                name=name)\n",
    "  return poisson_loss\n",
    "\n",
    "\n",
    "from prettytensor.pretty_tensor_class import PROVIDED\n",
    "@pt.Register\n",
    "def poisson_regression(input_layer,\n",
    "                  labels,\n",
    "                  name=PROVIDED,\n",
    "                  loss_weight=None,\n",
    "                  per_example_weights=None):\n",
    "  \"\"\"Calculates the Poisson loss of the input_layer vs inputs.\n",
    "  Args:\n",
    "    input_layer: The input PrettyTensor.\n",
    "    labels: A Float or Double tensor containing the labels.\n",
    "    name: The optional name.\n",
    "    loss_weight: A weight to scale the loss. Used when there are multiple\n",
    "      losses.\n",
    "    per_example_weights: A weighting for each example.\n",
    "  Returns:\n",
    "    A loss.\n",
    "  Raises:\n",
    "    ValueError: if labels is None or the type is not float or double.\n",
    "  \"\"\"\n",
    "  if labels is None:\n",
    "    raise ValueError('Labels must be set')\n",
    "  labels = _convert_and_assert_tensors_compatible(input_layer, labels)\n",
    "\n",
    "  if per_example_weights is not None:\n",
    "    per_example_weights = _convert_and_assert_per_example_weights_compatible(\n",
    "      input_layer,\n",
    "      per_example_weights,\n",
    "      dtype=input_layer.dtype)\n",
    "\n",
    "  correct_predictions, examples = _compute_average_correct(\n",
    "      input_layer, labels, per_example_weights)\n",
    "  correct_ratio = correct_predictions / examples\n",
    "  if correct_ratio.get_shape().is_fully_defined():\n",
    "    input_layer.bookkeeper.add_average_summary(\n",
    "      correct_ratio, 'average_accuracy_%s' % name)\n",
    "  return apply_regression(input_layer,\n",
    "                          poisson_loss,\n",
    "                          labels,\n",
    "                          [],\n",
    "                          name='%s_loss' % name,\n",
    "                          loss_weight=loss_weight,\n",
    "                          per_example_weights=per_example_weights)\n"
   ]
  },
  {
   "cell_type": "code",
   "execution_count": 5,
   "metadata": {
    "collapsed": false
   },
   "outputs": [],
   "source": [
    "@pt.Register\n",
    "class final_reshape(pt.VarStoreMethod):\n",
    "    def __call__(self, input_layer,\n",
    "                 name=\"final_reshape\"):\n",
    "        output_shape = [input_layer.shape[0], input_layer.shape[2]]\n",
    "        output_layer = tf.reshape(input_layer, output_shape)\n",
    "        return output_layer"
   ]
  },
  {
   "cell_type": "code",
   "execution_count": 6,
   "metadata": {
    "collapsed": false
   },
   "outputs": [],
   "source": [
    "def softmax(target, axis, name=None):\n",
    "    \"\"\"\n",
    "    Multi dimensional softmax,\n",
    "    refer to https://github.com/tensorflow/tensorflow/issues/210\n",
    "    compute softmax along the dimension of target\n",
    "    the native softmax only supports batch_size x dimension\n",
    "    \"\"\"\n",
    "    with tf.op_scope([target], name, 'softmax'):\n",
    "        max_axis = tf.reduce_max(target, axis, keep_dims=True)\n",
    "        target_exp = tf.exp(target-max_axis)\n",
    "        normalize = tf.reduce_sum(target_exp, axis, keep_dims=True)\n",
    "        softmax = target_exp / normalize\n",
    "    return softmax\n",
    "\n",
    "\n",
    "@pt.Register\n",
    "class softmax_axis(pt.VarStoreMethod):\n",
    "    def __call__(self, input_layer, axis=-1,\n",
    "                 name=\"final_reshape\"):\n",
    "        return softmax(input_layer, axis=axis)"
   ]
  },
  {
   "cell_type": "code",
   "execution_count": 7,
   "metadata": {
    "collapsed": true
   },
   "outputs": [],
   "source": [
    "def network(images, output_shape, keep_prob=0.75):\n",
    "  \"\"\"Creates a multi layer convolutional network.\n",
    "  The architecture is similar to that defined in LeNet 5.\n",
    "  Please change this to experiment with architectures.\n",
    "  Args:\n",
    "    images:  The input images.\n",
    "    labels: The labels as dense one-hot vectors.\n",
    "  Returns:\n",
    "    A softmax result.\n",
    "  \"\"\"\n",
    "  images = pt.wrap(images)\n",
    "  with pt.defaults_scope(activation_fn=tf.nn.relu, l2loss=0.00001):\n",
    "    out=(images.conv2d([1,5], 20).\n",
    "#                    dropout(keep_prob).\n",
    "                   softmax_axis(axis=2).\n",
    "                   conv2d([1,5], 50).\n",
    "                   dropout(keep_prob).\n",
    "                   custom_deconv2d(output_shape, kernel=[1,5], d_h=1, d_w=1).\n",
    "                   final_reshape()\n",
    "            )\n",
    "#     print(out.get_shape())\n",
    "    return out"
   ]
  },
  {
   "cell_type": "code",
   "execution_count": 8,
   "metadata": {
    "collapsed": false
   },
   "outputs": [],
   "source": [
    "# xlen = 2001\n",
    "# xdepth = 4\n",
    "# # Since we are feeding our data as numpy arrays, we need to create\n",
    "# # placeholders in the graph.\n",
    "# # These must then be fed using the feed dict.\n",
    "# image_placeholder = tf.placeholder(tf.float32, [BATCH_SIZE, 28, 28, 1])\n",
    "# labels_placeholder = tf.placeholder(tf.float32, [BATCH_SIZE, 10])\n",
    "\n",
    "# # Create our model.  The result of softmax_classifier is a namedtuple\n",
    "# # that has members result.loss and result.softmax.\n",
    "# # if FLAGS.model == 'full':\n",
    "# # elif FLAGS.model == 'conv':\n",
    "\n",
    "# result = network(image_placeholder, labels_placeholder, output_shape = [None,1,xlen, xdepth])\n",
    "\n",
    "# sess = tf.InteractiveSession()\n",
    "\n",
    "# # ins and outs\n",
    "# x = tf.placeholder(tf.float32, [None, 784])\n",
    "# keep_prob = tf.placeholder(\"float\") # do a little dropout to normalize\n",
    "# x_norm = tf.nn.dropout(x, keep_prob)\n",
    "# y_ = tf.placeholder(tf.float32, [None, 784])\n",
    "# x_image = tf.reshape(x_norm, [-1, 28, 28, 1])\n",
    "# # Need the batch size for the transpose layers.\n",
    "# batch_size = tf.shape(x)[0]"
   ]
  },
  {
   "cell_type": "code",
   "execution_count": 9,
   "metadata": {
    "collapsed": false
   },
   "outputs": [],
   "source": [
    "\n",
    "def get_whole_batch(conn, where={\"chr\":\"chr21\"}, binary=False, dtype=np.float32):\n",
    "    x,y = [], []\n",
    "    for _x, _y in get_aligned_batch(conn, size=1, where=where, binary=binary):\n",
    "        x.append(_x)\n",
    "        y.append(_y)\n",
    "    return np.stack(x,axis=1)[0].astype(dtype), np.stack(y,axis=1)[0].astype(dtype)"
   ]
  },
  {
   "cell_type": "code",
   "execution_count": 65,
   "metadata": {
    "collapsed": true
   },
   "outputs": [],
   "source": [
    "\"paths to the data sets\"\n",
    "dbdir = \"../data/\"\n",
    "dbpath = dbdir + \"batf_disc1.offsets_1000_1.pivot.db\"\n",
    "conn = sqlite3.connect(dbpath)\n",
    "\n",
    "x,y = get_whole_batch(conn, where={\"chr\":\"chr20\"},binary=False)"
   ]
  },
  {
   "cell_type": "code",
   "execution_count": 72,
   "metadata": {
    "collapsed": false
   },
   "outputs": [
    {
     "data": {
      "text/plain": [
       "(950, 1050)"
      ]
     },
     "execution_count": 72,
     "metadata": {},
     "output_type": "execute_result"
    },
    {
     "data": {
      "image/png": "[encoded data removed]",
      "text/plain": [
       "<matplotlib.figure.Figure at 0x10ddb4cc0>"
      ]
     },
     "metadata": {},
     "output_type": "display_data"
    }
   ],
   "source": [
    "x_ = np.squeeze(np.mean(x,axis=0))\n",
    "plt.plot(x_)\n",
    "plt.xlim(1000-50, 1000+50)"
   ]
  },
  {
   "cell_type": "code",
   "execution_count": 69,
   "metadata": {
    "collapsed": false
   },
   "outputs": [
    {
     "data": {
      "text/plain": [
       "(950, 1050)"
      ]
     },
     "execution_count": 69,
     "metadata": {},
     "output_type": "execute_result"
    },
    {
     "data": {
      "image/png": "[encoded data removed]",
      "text/plain": [
       "<matplotlib.figure.Figure at 0x1187d7be0>"
      ]
     },
     "metadata": {},
     "output_type": "display_data"
    }
   ],
   "source": [
    "plt.plot(np.mean(y,0))\n",
    "plt.xlim(1000-50, 1000+50)"
   ]
  },
  {
   "cell_type": "code",
   "execution_count": 10,
   "metadata": {
    "collapsed": false
   },
   "outputs": [
    {
     "name": "stdout",
     "output_type": "stream",
     "text": [
      "<tensorflow.python.platform.flags._FlagValues object at 0x10d44fa90>\n"
     ]
    }
   ],
   "source": [
    "flags = tf.app.flags\n",
    "# flags.DEFINE_boolean('predict', False, 'If true, predicts')\n",
    "FLAGS = flags.FLAGS\n",
    "print(flags.FLAGS)\n",
    "FLAGS.batch_size = 128\n",
    "FLAGS.EPOCH_SIZE = 500\n",
    "FLAGS.TEST_SIZE = 20\n",
    "FLAGS.BATCH_SIZE = 20\n",
    "FLAGS.lr = 0.02\n",
    "FLAGS.save_path = \"pt_checkpoint/\"\n",
    "# train_images, train_labels = data_utils.permute_data(get_whole_batch(conn, where={\"chr\":\"chr21\"}))"
   ]
  },
  {
   "cell_type": "code",
   "execution_count": 11,
   "metadata": {
    "collapsed": false
   },
   "outputs": [],
   "source": [
    "xrange = range\n",
    "def main(_=None, ):\n",
    "    # Since we are feeding our data as numpy arrays, we need to create\n",
    "    # placeholders in the graph.\n",
    "    # These must then be fed using the feed dict.\n",
    "    xlen = 2001\n",
    "    xdepth = 4\n",
    "    image_placeholder = tf.placeholder(tf.float32, [FLAGS.BATCH_SIZE, 1, xlen, xdepth], name=\"dna\")\n",
    "    labels_placeholder = tf.placeholder(tf.float32, [FLAGS.BATCH_SIZE, xlen], name=\"atac\")\n",
    "\n",
    "    # Create our model.  The result of softmax_classifier is a namedtuple\n",
    "    # that has members result.loss and result.softmax.\n",
    "\n",
    "    result = network(image_placeholder, output_shape = [None,1,xlen, 1])\n",
    "    loss = result.poisson_regression(labels_placeholder)\n",
    "    # For tracking accuracy in evaluation, we need to add an evaluation node.\n",
    "    # We only include this part of the graph when testing, so we need to specify\n",
    "    # that in the phase.\n",
    "    # Some ops have different behaviors in test vs train and these take a phase\n",
    "    # argument.\n",
    "    #loss = result.l2_regression(labels_placeholder,)\n",
    "\n",
    "    # Grab the data as numpy arrays.\n",
    "    test_images, test_labels = data_utils.permute_data(get_whole_batch(conn, where={\"chr\":\"chr22\"},binary=False))\n",
    "\n",
    "    # Create the gradient optimizer and apply it to the graph.\n",
    "    # pt.apply_optimizer adds regularization losses and sets up a step counter\n",
    "    # (pt.global_step()) for you.\n",
    "    optimizer = tf.train.GradientDescentOptimizer(FLAGS.lr)\n",
    "    train_op = pt.apply_optimizer(optimizer, losses=[loss])\n",
    "\n",
    "    # We can set a save_path in the runner to automatically checkpoint every so\n",
    "    # often.  Otherwise at the end of the session, the model will be lost.\n",
    "    runner = pt.train.Runner(save_path=FLAGS.save_path)\n",
    "    with tf.Session():\n",
    "        for epoch in xrange(10):\n",
    "            # Shuffle the training data.\n",
    "            train_images, train_labels = data_utils.permute_data(get_whole_batch(conn,\n",
    "                                                                where={\"chr\":\"chr21\"}, binary=False))\n",
    "            for batch_num, (train_images, train_labels) in enumerate(train_batchloader(FLAGS.EPOCH_SIZE)):\n",
    "                tr = pt.train.feed_numpy(FLAGS.BATCH_SIZE, train_images, train_labels)\n",
    "                ts = pt.train.feed_numpy(FLAGS.BATCH_SIZE,  test_images, test_labels)\n",
    "                runner.train_model(\n",
    "                  train_op,\n",
    "                  loss,\n",
    "                  FLAGS.EPOCH_SIZE // FLAGS.BATCH_SIZE,\n",
    "                  feed_vars=(image_placeholder, labels_placeholder),\n",
    "                  feed_data=tr,\n",
    "                  print_every=10)\n",
    "                loss_value = runner.evaluate_model(\n",
    "                  loss,\n",
    "                  FLAGS.EPOCH_SIZE // FLAGS.BATCH_SIZE,\n",
    "                  feed_vars=(image_placeholder, labels_placeholder),\n",
    "                  feed_data=ts)\n",
    "            print('Loss after %d epoch %g' % (\n",
    "              epoch + 1, loss_value))\n"
   ]
  },
  {
   "cell_type": "code",
   "execution_count": 18,
   "metadata": {
    "collapsed": false
   },
   "outputs": [],
   "source": [
    "def predict(_=None, ):\n",
    "    # Since we are feeding our data as numpy arrays, we need to create\n",
    "    # placeholders in the graph.\n",
    "    # These must then be fed using the feed dict.\n",
    "    xlen = 2001\n",
    "    xdepth = 4\n",
    "    image_placeholder = tf.placeholder(tf.float32, [FLAGS.BATCH_SIZE, 1, xlen, xdepth], name=\"dna\")\n",
    "    labels_placeholder = tf.placeholder(tf.float32, [FLAGS.BATCH_SIZE, xlen], name=\"atac\")\n",
    "\n",
    "    # Create our model.  The result of softmax_classifier is a namedtuple\n",
    "    # that has members result.loss and result.softmax.\n",
    "\n",
    "    result = network(image_placeholder, output_shape = [None,1,xlen, 1])\n",
    "    loss = result.poisson_regression(labels_placeholder)\n",
    " \n",
    "    test_images, test_labels = data_utils.permute_data(get_whole_batch(conn, where={\"chr\":\"chr22\"},binary=False))\n",
    "\n",
    "    runner = pt.train.Runner(save_path=FLAGS.save_path)\n",
    "    ts = pt.train.feed_numpy(FLAGS.BATCH_SIZE,  test_images, test_labels)\n",
    "    with tf.Session() as sess:\n",
    "        runner.load_from_checkpoint(sess)\n",
    "        for batch_num, (train_images, train_labels) in enumerate(train_batchloader(FLAGS.EPOCH_SIZE)):\n",
    "            res = runner.evaluate_model(\n",
    "              result,\n",
    "              FLAGS.EPOCH_SIZE // FLAGS.BATCH_SIZE,\n",
    "              feed_vars=(image_placeholder),\n",
    "              feed_data=ts)\n",
    "\n",
    "            loss_value = runner.evaluate_model(\n",
    "              loss,\n",
    "              FLAGS.EPOCH_SIZE // FLAGS.BATCH_SIZE,\n",
    "              feed_vars=(image_placeholder),\n",
    "              feed_data=ts)\n",
    "            print('Loss after %d epoch %g' % (\n",
    "              loss_value))\n"
   ]
  },
  {
   "cell_type": "code",
   "execution_count": 15,
   "metadata": {
    "collapsed": true
   },
   "outputs": [],
   "source": [
    "# runner = pt.train.Runner(save_path=FLAGS.save_path)\n",
    "# runner.load_from_checkpoint?"
   ]
  },
  {
   "cell_type": "code",
   "execution_count": 19,
   "metadata": {
    "collapsed": false,
    "scrolled": false
   },
   "outputs": [
    {
     "ename": "NotFoundError",
     "evalue": "Tensor name \"poisson_regression_2/truediv_average\" not found in checkpoint files pt_checkpoint/-1001\n\t [[Node: save_4/restore_slice_24 = RestoreSlice[dt=DT_FLOAT, preferred_shard=-1, _device=\"/job:localhost/replica:0/task:0/cpu:0\"](_recv_save_4/Const_0, save_4/restore_slice_24/tensor_name, save_4/restore_slice_24/shape_and_slice)]]\nCaused by op 'save_4/restore_slice_24', defined at:\n  File \"/Library/Frameworks/Python.framework/Versions/3.5/lib/python3.5/runpy.py\", line 170, in _run_module_as_main\n    \"__main__\", mod_spec)\n  File \"/Library/Frameworks/Python.framework/Versions/3.5/lib/python3.5/runpy.py\", line 85, in _run_code\n    exec(code, run_globals)\n  File \"/Library/Frameworks/Python.framework/Versions/3.5/lib/python3.5/site-packages/ipykernel/__main__.py\", line 3, in <module>\n    app.launch_new_instance()\n  File \"/Library/Frameworks/Python.framework/Versions/3.5/lib/python3.5/site-packages/traitlets/config/application.py\", line 596, in launch_instance\n    app.start()\n  File \"/Library/Frameworks/Python.framework/Versions/3.5/lib/python3.5/site-packages/ipykernel/kernelapp.py\", line 442, in start\n    ioloop.IOLoop.instance().start()\n  File \"/Library/Frameworks/Python.framework/Versions/3.5/lib/python3.5/site-packages/zmq/eventloop/ioloop.py\", line 162, in start\n    super(ZMQIOLoop, self).start()\n  File \"/Library/Frameworks/Python.framework/Versions/3.5/lib/python3.5/site-packages/tornado/ioloop.py\", line 883, in start\n    handler_func(fd_obj, events)\n  File \"/Library/Frameworks/Python.framework/Versions/3.5/lib/python3.5/site-packages/tornado/stack_context.py\", line 275, in null_wrapper\n    return fn(*args, **kwargs)\n  File \"/Library/Frameworks/Python.framework/Versions/3.5/lib/python3.5/site-packages/zmq/eventloop/zmqstream.py\", line 440, in _handle_events\n    self._handle_recv()\n  File \"/Library/Frameworks/Python.framework/Versions/3.5/lib/python3.5/site-packages/zmq/eventloop/zmqstream.py\", line 472, in _handle_recv\n    self._run_callback(callback, msg)\n  File \"/Library/Frameworks/Python.framework/Versions/3.5/lib/python3.5/site-packages/zmq/eventloop/zmqstream.py\", line 414, in _run_callback\n    callback(*args, **kwargs)\n  File \"/Library/Frameworks/Python.framework/Versions/3.5/lib/python3.5/site-packages/tornado/stack_context.py\", line 275, in null_wrapper\n    return fn(*args, **kwargs)\n  File \"/Library/Frameworks/Python.framework/Versions/3.5/lib/python3.5/site-packages/ipykernel/kernelbase.py\", line 276, in dispatcher\n    return self.dispatch_shell(stream, msg)\n  File \"/Library/Frameworks/Python.framework/Versions/3.5/lib/python3.5/site-packages/ipykernel/kernelbase.py\", line 228, in dispatch_shell\n    handler(stream, idents, msg)\n  File \"/Library/Frameworks/Python.framework/Versions/3.5/lib/python3.5/site-packages/ipykernel/kernelbase.py\", line 391, in execute_request\n    user_expressions, allow_stdin)\n  File \"/Library/Frameworks/Python.framework/Versions/3.5/lib/python3.5/site-packages/ipykernel/ipkernel.py\", line 199, in do_execute\n    shell.run_cell(code, store_history=store_history, silent=silent)\n  File \"/Library/Frameworks/Python.framework/Versions/3.5/lib/python3.5/site-packages/IPython/core/interactiveshell.py\", line 2705, in run_cell\n    interactivity=interactivity, compiler=compiler, result=result)\n  File \"/Library/Frameworks/Python.framework/Versions/3.5/lib/python3.5/site-packages/IPython/core/interactiveshell.py\", line 2815, in run_ast_nodes\n    if self.run_code(code, result):\n  File \"/Library/Frameworks/Python.framework/Versions/3.5/lib/python3.5/site-packages/IPython/core/interactiveshell.py\", line 2869, in run_code\n    exec(code_obj, self.user_global_ns, self.user_ns)\n  File \"<ipython-input-19-b11244c6ad22>\", line 2, in <module>\n    predict()\n  File \"<ipython-input-18-776607df87b2>\", line 18, in predict\n    runner = pt.train.Runner(save_path=FLAGS.save_path)\n  File \"/Library/Frameworks/Python.framework/Versions/3.5/lib/python3.5/site-packages/prettytensor/local_trainer.py\", line 90, in __init__\n    self._create_initializers()\n  File \"/Library/Frameworks/Python.framework/Versions/3.5/lib/python3.5/site-packages/prettytensor/local_trainer.py\", line 126, in _create_initializers\n    self._saver = tf.train.Saver(tf.all_variables(), max_to_keep=5)\n  File \"/Library/Frameworks/Python.framework/Versions/3.5/lib/python3.5/site-packages/tensorflow/python/training/saver.py\", line 845, in __init__\n    restore_sequentially=restore_sequentially)\n  File \"/Library/Frameworks/Python.framework/Versions/3.5/lib/python3.5/site-packages/tensorflow/python/training/saver.py\", line 515, in build\n    filename_tensor, vars_to_save, restore_sequentially, reshape)\n  File \"/Library/Frameworks/Python.framework/Versions/3.5/lib/python3.5/site-packages/tensorflow/python/training/saver.py\", line 271, in _AddRestoreOps\n    values = self.restore_op(filename_tensor, vs, preferred_shard)\n  File \"/Library/Frameworks/Python.framework/Versions/3.5/lib/python3.5/site-packages/tensorflow/python/training/saver.py\", line 186, in restore_op\n    preferred_shard=preferred_shard)\n  File \"/Library/Frameworks/Python.framework/Versions/3.5/lib/python3.5/site-packages/tensorflow/python/ops/io_ops.py\", line 202, in _restore_slice\n    preferred_shard, name=name)\n  File \"/Library/Frameworks/Python.framework/Versions/3.5/lib/python3.5/site-packages/tensorflow/python/ops/gen_io_ops.py\", line 358, in _restore_slice\n    preferred_shard=preferred_shard, name=name)\n  File \"/Library/Frameworks/Python.framework/Versions/3.5/lib/python3.5/site-packages/tensorflow/python/ops/op_def_library.py\", line 704, in apply_op\n    op_def=op_def)\n  File \"/Library/Frameworks/Python.framework/Versions/3.5/lib/python3.5/site-packages/tensorflow/python/framework/ops.py\", line 2260, in create_op\n    original_op=self._default_original_op, op_def=op_def)\n  File \"/Library/Frameworks/Python.framework/Versions/3.5/lib/python3.5/site-packages/tensorflow/python/framework/ops.py\", line 1230, in __init__\n    self._traceback = _extract_stack()\n",
     "output_type": "error",
     "traceback": [
      "\u001b[0;31m---------------------------------\u001b[0m",
      "\u001b[0;31mNotFoundError\u001b[0mTraceback (most recent call last)",
      "\u001b[0;32m/Library/Frameworks/Python.framework/Versions/3.5/lib/python3.5/site-packages/tensorflow/python/client/session.py\u001b[0m in \u001b[0;36m_do_call\u001b[0;34m(self, fn, *args)\u001b[0m\n\u001b[1;32m    714\u001b[0m     \u001b[0;32mtry\u001b[0m\u001b[0;34m:\u001b[0m\u001b[0;34m\u001b[0m\u001b[0m\n\u001b[0;32m--> 715\u001b[0;31m       \u001b[0;32mreturn\u001b[0m \u001b[0mfn\u001b[0m\u001b[0;34m(\u001b[0m\u001b[0;34m*\u001b[0m\u001b[0margs\u001b[0m\u001b[0;34m)\u001b[0m\u001b[0;34m\u001b[0m\u001b[0m\n\u001b[0m\u001b[1;32m    716\u001b[0m     \u001b[0;32mexcept\u001b[0m \u001b[0merrors\u001b[0m\u001b[0;34m.\u001b[0m\u001b[0mOpError\u001b[0m \u001b[0;32mas\u001b[0m \u001b[0me\u001b[0m\u001b[0;34m:\u001b[0m\u001b[0;34m\u001b[0m\u001b[0m\n",
      "\u001b[0;32m/Library/Frameworks/Python.framework/Versions/3.5/lib/python3.5/site-packages/tensorflow/python/client/session.py\u001b[0m in \u001b[0;36m_run_fn\u001b[0;34m(session, feed_dict, fetch_list, target_list, options, run_metadata)\u001b[0m\n\u001b[1;32m    696\u001b[0m                                  \u001b[0mfeed_dict\u001b[0m\u001b[0;34m,\u001b[0m \u001b[0mfetch_list\u001b[0m\u001b[0;34m,\u001b[0m \u001b[0mtarget_list\u001b[0m\u001b[0;34m,\u001b[0m\u001b[0;34m\u001b[0m\u001b[0m\n\u001b[0;32m--> 697\u001b[0;31m                                  status, run_metadata)\n\u001b[0m\u001b[1;32m    698\u001b[0m \u001b[0;34m\u001b[0m\u001b[0m\n",
      "\u001b[0;32m/Library/Frameworks/Python.framework/Versions/3.5/lib/python3.5/contextlib.py\u001b[0m in \u001b[0;36m__exit__\u001b[0;34m(self, type, value, traceback)\u001b[0m\n\u001b[1;32m     65\u001b[0m             \u001b[0;32mtry\u001b[0m\u001b[0;34m:\u001b[0m\u001b[0;34m\u001b[0m\u001b[0m\n\u001b[0;32m---> 66\u001b[0;31m                 \u001b[0mnext\u001b[0m\u001b[0;34m(\u001b[0m\u001b[0mself\u001b[0m\u001b[0;34m.\u001b[0m\u001b[0mgen\u001b[0m\u001b[0;34m)\u001b[0m\u001b[0;34m\u001b[0m\u001b[0m\n\u001b[0m\u001b[1;32m     67\u001b[0m             \u001b[0;32mexcept\u001b[0m \u001b[0mStopIteration\u001b[0m\u001b[0;34m:\u001b[0m\u001b[0;34m\u001b[0m\u001b[0m\n",
      "\u001b[0;32m/Library/Frameworks/Python.framework/Versions/3.5/lib/python3.5/site-packages/tensorflow/python/framework/errors.py\u001b[0m in \u001b[0;36mraise_exception_on_not_ok_status\u001b[0;34m()\u001b[0m\n\u001b[1;32m    449\u001b[0m           \u001b[0mcompat\u001b[0m\u001b[0;34m.\u001b[0m\u001b[0mas_text\u001b[0m\u001b[0;34m(\u001b[0m\u001b[0mpywrap_tensorflow\u001b[0m\u001b[0;34m.\u001b[0m\u001b[0mTF_Message\u001b[0m\u001b[0;34m(\u001b[0m\u001b[0mstatus\u001b[0m\u001b[0;34m)\u001b[0m\u001b[0;34m)\u001b[0m\u001b[0;34m,\u001b[0m\u001b[0;34m\u001b[0m\u001b[0m\n\u001b[0;32m--> 450\u001b[0;31m           pywrap_tensorflow.TF_GetCode(status))\n\u001b[0m\u001b[1;32m    451\u001b[0m   \u001b[0;32mfinally\u001b[0m\u001b[0;34m:\u001b[0m\u001b[0;34m\u001b[0m\u001b[0m\n",
      "\u001b[0;31mNotFoundError\u001b[0m: Tensor name \"poisson_regression_2/truediv_average\" not found in checkpoint files pt_checkpoint/-1001\n\t [[Node: save_4/restore_slice_24 = RestoreSlice[dt=DT_FLOAT, preferred_shard=-1, _device=\"/job:localhost/replica:0/task:0/cpu:0\"](_recv_save_4/Const_0, save_4/restore_slice_24/tensor_name, save_4/restore_slice_24/shape_and_slice)]]",
      "\nDuring handling of the above exception, another exception occurred:\n",
      "\u001b[0;31mNotFoundError\u001b[0mTraceback (most recent call last)",
      "\u001b[0;32m<ipython-input-19-b11244c6ad22>\u001b[0m in \u001b[0;36m<module>\u001b[0;34m()\u001b[0m\n\u001b[1;32m      1\u001b[0m \u001b[0;31m# main()\u001b[0m\u001b[0;34m\u001b[0m\u001b[0;34m\u001b[0m\u001b[0m\n\u001b[0;32m----> 2\u001b[0;31m \u001b[0mpredict\u001b[0m\u001b[0;34m(\u001b[0m\u001b[0;34m)\u001b[0m\u001b[0;34m\u001b[0m\u001b[0m\n\u001b[0m",
      "\u001b[0;32m<ipython-input-18-776607df87b2>\u001b[0m in \u001b[0;36mpredict\u001b[0;34m(_)\u001b[0m\n\u001b[1;32m     19\u001b[0m     \u001b[0mts\u001b[0m \u001b[0;34m=\u001b[0m \u001b[0mpt\u001b[0m\u001b[0;34m.\u001b[0m\u001b[0mtrain\u001b[0m\u001b[0;34m.\u001b[0m\u001b[0mfeed_numpy\u001b[0m\u001b[0;34m(\u001b[0m\u001b[0mFLAGS\u001b[0m\u001b[0;34m.\u001b[0m\u001b[0mBATCH_SIZE\u001b[0m\u001b[0;34m,\u001b[0m  \u001b[0mtest_images\u001b[0m\u001b[0;34m,\u001b[0m \u001b[0mtest_labels\u001b[0m\u001b[0;34m)\u001b[0m\u001b[0;34m\u001b[0m\u001b[0m\n\u001b[1;32m     20\u001b[0m     \u001b[0;32mwith\u001b[0m \u001b[0mtf\u001b[0m\u001b[0;34m.\u001b[0m\u001b[0mSession\u001b[0m\u001b[0;34m(\u001b[0m\u001b[0;34m)\u001b[0m \u001b[0;32mas\u001b[0m \u001b[0msess\u001b[0m\u001b[0;34m:\u001b[0m\u001b[0;34m\u001b[0m\u001b[0m\n\u001b[0;32m---> 21\u001b[0;31m         \u001b[0mrunner\u001b[0m\u001b[0;34m.\u001b[0m\u001b[0mload_from_checkpoint\u001b[0m\u001b[0;34m(\u001b[0m\u001b[0msess\u001b[0m\u001b[0;34m)\u001b[0m\u001b[0;34m\u001b[0m\u001b[0m\n\u001b[0m\u001b[1;32m     22\u001b[0m         \u001b[0;32mfor\u001b[0m \u001b[0mbatch_num\u001b[0m\u001b[0;34m,\u001b[0m \u001b[0;34m(\u001b[0m\u001b[0mtrain_images\u001b[0m\u001b[0;34m,\u001b[0m \u001b[0mtrain_labels\u001b[0m\u001b[0;34m)\u001b[0m \u001b[0;32min\u001b[0m \u001b[0menumerate\u001b[0m\u001b[0;34m(\u001b[0m\u001b[0mtrain_batchloader\u001b[0m\u001b[0;34m(\u001b[0m\u001b[0mFLAGS\u001b[0m\u001b[0;34m.\u001b[0m\u001b[0mEPOCH_SIZE\u001b[0m\u001b[0;34m)\u001b[0m\u001b[0;34m)\u001b[0m\u001b[0;34m:\u001b[0m\u001b[0;34m\u001b[0m\u001b[0m\n\u001b[1;32m     23\u001b[0m             res = runner.evaluate_model(\n",
      "\u001b[0;32m/Library/Frameworks/Python.framework/Versions/3.5/lib/python3.5/site-packages/prettytensor/local_trainer.py\u001b[0m in \u001b[0;36mload_from_checkpoint\u001b[0;34m(self, sess, latest_filename)\u001b[0m\n\u001b[1;32m    193\u001b[0m     \u001b[0mself\u001b[0m\u001b[0;34m.\u001b[0m\u001b[0m_create_initializers\u001b[0m\u001b[0;34m(\u001b[0m\u001b[0;34m)\u001b[0m\u001b[0;34m\u001b[0m\u001b[0m\n\u001b[1;32m    194\u001b[0m     \u001b[0;32mif\u001b[0m \u001b[0mself\u001b[0m\u001b[0;34m.\u001b[0m\u001b[0m_saver\u001b[0m\u001b[0;34m.\u001b[0m\u001b[0mlast_checkpoints\u001b[0m\u001b[0;34m:\u001b[0m\u001b[0;34m\u001b[0m\u001b[0m\n\u001b[0;32m--> 195\u001b[0;31m       \u001b[0mself\u001b[0m\u001b[0;34m.\u001b[0m\u001b[0m_saver\u001b[0m\u001b[0;34m.\u001b[0m\u001b[0mrestore\u001b[0m\u001b[0;34m(\u001b[0m\u001b[0msess\u001b[0m\u001b[0;34m,\u001b[0m \u001b[0mself\u001b[0m\u001b[0;34m.\u001b[0m\u001b[0m_saver\u001b[0m\u001b[0;34m.\u001b[0m\u001b[0mlast_checkpoints\u001b[0m\u001b[0;34m[\u001b[0m\u001b[0;34m-\u001b[0m\u001b[0;36m1\u001b[0m\u001b[0;34m]\u001b[0m\u001b[0;34m)\u001b[0m\u001b[0;34m\u001b[0m\u001b[0m\n\u001b[0m\u001b[1;32m    196\u001b[0m       \u001b[0;32mreturn\u001b[0m \u001b[0mself\u001b[0m\u001b[0;34m.\u001b[0m\u001b[0m_saver\u001b[0m\u001b[0;34m.\u001b[0m\u001b[0mlast_checkpoints\u001b[0m\u001b[0;34m[\u001b[0m\u001b[0;34m-\u001b[0m\u001b[0;36m1\u001b[0m\u001b[0;34m]\u001b[0m\u001b[0;34m\u001b[0m\u001b[0m\n\u001b[1;32m    197\u001b[0m     \u001b[0;32melse\u001b[0m\u001b[0;34m:\u001b[0m\u001b[0;34m\u001b[0m\u001b[0m\n",
      "\u001b[0;32m/Library/Frameworks/Python.framework/Versions/3.5/lib/python3.5/site-packages/tensorflow/python/training/saver.py\u001b[0m in \u001b[0;36mrestore\u001b[0;34m(self, sess, save_path)\u001b[0m\n\u001b[1;32m   1103\u001b[0m       \u001b[0;32mraise\u001b[0m \u001b[0mValueError\u001b[0m\u001b[0;34m(\u001b[0m\u001b[0;34m\"Restore called with invalid save path %s\"\u001b[0m \u001b[0;34m%\u001b[0m \u001b[0msave_path\u001b[0m\u001b[0;34m)\u001b[0m\u001b[0;34m\u001b[0m\u001b[0m\n\u001b[1;32m   1104\u001b[0m     sess.run(self.saver_def.restore_op_name,\n\u001b[0;32m-> 1105\u001b[0;31m              {self.saver_def.filename_tensor_name: save_path})\n\u001b[0m\u001b[1;32m   1106\u001b[0m \u001b[0;34m\u001b[0m\u001b[0m\n\u001b[1;32m   1107\u001b[0m   \u001b[0;34m@\u001b[0m\u001b[0mstaticmethod\u001b[0m\u001b[0;34m\u001b[0m\u001b[0m\n",
      "\u001b[0;32m/Library/Frameworks/Python.framework/Versions/3.5/lib/python3.5/site-packages/tensorflow/python/client/session.py\u001b[0m in \u001b[0;36mrun\u001b[0;34m(self, fetches, feed_dict, options, run_metadata)\u001b[0m\n\u001b[1;32m    370\u001b[0m     \u001b[0;32mtry\u001b[0m\u001b[0;34m:\u001b[0m\u001b[0;34m\u001b[0m\u001b[0m\n\u001b[1;32m    371\u001b[0m       result = self._run(None, fetches, feed_dict, options_ptr,\n\u001b[0;32m--> 372\u001b[0;31m                          run_metadata_ptr)\n\u001b[0m\u001b[1;32m    373\u001b[0m       \u001b[0;32mif\u001b[0m \u001b[0mrun_metadata\u001b[0m\u001b[0;34m:\u001b[0m\u001b[0;34m\u001b[0m\u001b[0m\n\u001b[1;32m    374\u001b[0m         \u001b[0mproto_data\u001b[0m \u001b[0;34m=\u001b[0m \u001b[0mtf_session\u001b[0m\u001b[0;34m.\u001b[0m\u001b[0mTF_GetBuffer\u001b[0m\u001b[0;34m(\u001b[0m\u001b[0mrun_metadata_ptr\u001b[0m\u001b[0;34m)\u001b[0m\u001b[0;34m\u001b[0m\u001b[0m\n",
      "\u001b[0;32m/Library/Frameworks/Python.framework/Versions/3.5/lib/python3.5/site-packages/tensorflow/python/client/session.py\u001b[0m in \u001b[0;36m_run\u001b[0;34m(self, handle, fetches, feed_dict, options, run_metadata)\u001b[0m\n\u001b[1;32m    634\u001b[0m     \u001b[0;32mtry\u001b[0m\u001b[0;34m:\u001b[0m\u001b[0;34m\u001b[0m\u001b[0m\n\u001b[1;32m    635\u001b[0m       results = self._do_run(handle, target_list, unique_fetches,\n\u001b[0;32m--> 636\u001b[0;31m                              feed_dict_string, options, run_metadata)\n\u001b[0m\u001b[1;32m    637\u001b[0m     \u001b[0;32mfinally\u001b[0m\u001b[0;34m:\u001b[0m\u001b[0;34m\u001b[0m\u001b[0m\n\u001b[1;32m    638\u001b[0m       \u001b[0;31m# The movers are no longer used. Delete them.\u001b[0m\u001b[0;34m\u001b[0m\u001b[0;34m\u001b[0m\u001b[0m\n",
      "\u001b[0;32m/Library/Frameworks/Python.framework/Versions/3.5/lib/python3.5/site-packages/tensorflow/python/client/session.py\u001b[0m in \u001b[0;36m_do_run\u001b[0;34m(self, handle, target_list, fetch_list, feed_dict, options, run_metadata)\u001b[0m\n\u001b[1;32m    706\u001b[0m     \u001b[0;32mif\u001b[0m \u001b[0mhandle\u001b[0m \u001b[0;32mis\u001b[0m \u001b[0;32mNone\u001b[0m\u001b[0;34m:\u001b[0m\u001b[0;34m\u001b[0m\u001b[0m\n\u001b[1;32m    707\u001b[0m       return self._do_call(_run_fn, self._session, feed_dict, fetch_list,\n\u001b[0;32m--> 708\u001b[0;31m                            target_list, options, run_metadata)\n\u001b[0m\u001b[1;32m    709\u001b[0m     \u001b[0;32melse\u001b[0m\u001b[0;34m:\u001b[0m\u001b[0;34m\u001b[0m\u001b[0m\n\u001b[1;32m    710\u001b[0m       return self._do_call(_prun_fn, self._session, handle, feed_dict,\n",
      "\u001b[0;32m/Library/Frameworks/Python.framework/Versions/3.5/lib/python3.5/site-packages/tensorflow/python/client/session.py\u001b[0m in \u001b[0;36m_do_call\u001b[0;34m(self, fn, *args)\u001b[0m\n\u001b[1;32m    726\u001b[0m         \u001b[0;32mexcept\u001b[0m \u001b[0mKeyError\u001b[0m\u001b[0;34m:\u001b[0m\u001b[0;34m\u001b[0m\u001b[0m\n\u001b[1;32m    727\u001b[0m           \u001b[0;32mpass\u001b[0m\u001b[0;34m\u001b[0m\u001b[0m\n\u001b[0;32m--> 728\u001b[0;31m       \u001b[0;32mraise\u001b[0m \u001b[0mtype\u001b[0m\u001b[0;34m(\u001b[0m\u001b[0me\u001b[0m\u001b[0;34m)\u001b[0m\u001b[0;34m(\u001b[0m\u001b[0mnode_def\u001b[0m\u001b[0;34m,\u001b[0m \u001b[0mop\u001b[0m\u001b[0;34m,\u001b[0m \u001b[0mmessage\u001b[0m\u001b[0;34m)\u001b[0m\u001b[0;34m\u001b[0m\u001b[0m\n\u001b[0m\u001b[1;32m    729\u001b[0m \u001b[0;34m\u001b[0m\u001b[0m\n\u001b[1;32m    730\u001b[0m   \u001b[0;32mdef\u001b[0m \u001b[0m_extend_graph\u001b[0m\u001b[0;34m(\u001b[0m\u001b[0mself\u001b[0m\u001b[0;34m)\u001b[0m\u001b[0;34m:\u001b[0m\u001b[0;34m\u001b[0m\u001b[0m\n",
      "\u001b[0;31mNotFoundError\u001b[0m: Tensor name \"poisson_regression_2/truediv_average\" not found in checkpoint files pt_checkpoint/-1001\n\t [[Node: save_4/restore_slice_24 = RestoreSlice[dt=DT_FLOAT, preferred_shard=-1, _device=\"/job:localhost/replica:0/task:0/cpu:0\"](_recv_save_4/Const_0, save_4/restore_slice_24/tensor_name, save_4/restore_slice_24/shape_and_slice)]]\nCaused by op 'save_4/restore_slice_24', defined at:\n  File \"/Library/Frameworks/Python.framework/Versions/3.5/lib/python3.5/runpy.py\", line 170, in _run_module_as_main\n    \"__main__\", mod_spec)\n  File \"/Library/Frameworks/Python.framework/Versions/3.5/lib/python3.5/runpy.py\", line 85, in _run_code\n    exec(code, run_globals)\n  File \"/Library/Frameworks/Python.framework/Versions/3.5/lib/python3.5/site-packages/ipykernel/__main__.py\", line 3, in <module>\n    app.launch_new_instance()\n  File \"/Library/Frameworks/Python.framework/Versions/3.5/lib/python3.5/site-packages/traitlets/config/application.py\", line 596, in launch_instance\n    app.start()\n  File \"/Library/Frameworks/Python.framework/Versions/3.5/lib/python3.5/site-packages/ipykernel/kernelapp.py\", line 442, in start\n    ioloop.IOLoop.instance().start()\n  File \"/Library/Frameworks/Python.framework/Versions/3.5/lib/python3.5/site-packages/zmq/eventloop/ioloop.py\", line 162, in start\n    super(ZMQIOLoop, self).start()\n  File \"/Library/Frameworks/Python.framework/Versions/3.5/lib/python3.5/site-packages/tornado/ioloop.py\", line 883, in start\n    handler_func(fd_obj, events)\n  File \"/Library/Frameworks/Python.framework/Versions/3.5/lib/python3.5/site-packages/tornado/stack_context.py\", line 275, in null_wrapper\n    return fn(*args, **kwargs)\n  File \"/Library/Frameworks/Python.framework/Versions/3.5/lib/python3.5/site-packages/zmq/eventloop/zmqstream.py\", line 440, in _handle_events\n    self._handle_recv()\n  File \"/Library/Frameworks/Python.framework/Versions/3.5/lib/python3.5/site-packages/zmq/eventloop/zmqstream.py\", line 472, in _handle_recv\n    self._run_callback(callback, msg)\n  File \"/Library/Frameworks/Python.framework/Versions/3.5/lib/python3.5/site-packages/zmq/eventloop/zmqstream.py\", line 414, in _run_callback\n    callback(*args, **kwargs)\n  File \"/Library/Frameworks/Python.framework/Versions/3.5/lib/python3.5/site-packages/tornado/stack_context.py\", line 275, in null_wrapper\n    return fn(*args, **kwargs)\n  File \"/Library/Frameworks/Python.framework/Versions/3.5/lib/python3.5/site-packages/ipykernel/kernelbase.py\", line 276, in dispatcher\n    return self.dispatch_shell(stream, msg)\n  File \"/Library/Frameworks/Python.framework/Versions/3.5/lib/python3.5/site-packages/ipykernel/kernelbase.py\", line 228, in dispatch_shell\n    handler(stream, idents, msg)\n  File \"/Library/Frameworks/Python.framework/Versions/3.5/lib/python3.5/site-packages/ipykernel/kernelbase.py\", line 391, in execute_request\n    user_expressions, allow_stdin)\n  File \"/Library/Frameworks/Python.framework/Versions/3.5/lib/python3.5/site-packages/ipykernel/ipkernel.py\", line 199, in do_execute\n    shell.run_cell(code, store_history=store_history, silent=silent)\n  File \"/Library/Frameworks/Python.framework/Versions/3.5/lib/python3.5/site-packages/IPython/core/interactiveshell.py\", line 2705, in run_cell\n    interactivity=interactivity, compiler=compiler, result=result)\n  File \"/Library/Frameworks/Python.framework/Versions/3.5/lib/python3.5/site-packages/IPython/core/interactiveshell.py\", line 2815, in run_ast_nodes\n    if self.run_code(code, result):\n  File \"/Library/Frameworks/Python.framework/Versions/3.5/lib/python3.5/site-packages/IPython/core/interactiveshell.py\", line 2869, in run_code\n    exec(code_obj, self.user_global_ns, self.user_ns)\n  File \"<ipython-input-19-b11244c6ad22>\", line 2, in <module>\n    predict()\n  File \"<ipython-input-18-776607df87b2>\", line 18, in predict\n    runner = pt.train.Runner(save_path=FLAGS.save_path)\n  File \"/Library/Frameworks/Python.framework/Versions/3.5/lib/python3.5/site-packages/prettytensor/local_trainer.py\", line 90, in __init__\n    self._create_initializers()\n  File \"/Library/Frameworks/Python.framework/Versions/3.5/lib/python3.5/site-packages/prettytensor/local_trainer.py\", line 126, in _create_initializers\n    self._saver = tf.train.Saver(tf.all_variables(), max_to_keep=5)\n  File \"/Library/Frameworks/Python.framework/Versions/3.5/lib/python3.5/site-packages/tensorflow/python/training/saver.py\", line 845, in __init__\n    restore_sequentially=restore_sequentially)\n  File \"/Library/Frameworks/Python.framework/Versions/3.5/lib/python3.5/site-packages/tensorflow/python/training/saver.py\", line 515, in build\n    filename_tensor, vars_to_save, restore_sequentially, reshape)\n  File \"/Library/Frameworks/Python.framework/Versions/3.5/lib/python3.5/site-packages/tensorflow/python/training/saver.py\", line 271, in _AddRestoreOps\n    values = self.restore_op(filename_tensor, vs, preferred_shard)\n  File \"/Library/Frameworks/Python.framework/Versions/3.5/lib/python3.5/site-packages/tensorflow/python/training/saver.py\", line 186, in restore_op\n    preferred_shard=preferred_shard)\n  File \"/Library/Frameworks/Python.framework/Versions/3.5/lib/python3.5/site-packages/tensorflow/python/ops/io_ops.py\", line 202, in _restore_slice\n    preferred_shard, name=name)\n  File \"/Library/Frameworks/Python.framework/Versions/3.5/lib/python3.5/site-packages/tensorflow/python/ops/gen_io_ops.py\", line 358, in _restore_slice\n    preferred_shard=preferred_shard, name=name)\n  File \"/Library/Frameworks/Python.framework/Versions/3.5/lib/python3.5/site-packages/tensorflow/python/ops/op_def_library.py\", line 704, in apply_op\n    op_def=op_def)\n  File \"/Library/Frameworks/Python.framework/Versions/3.5/lib/python3.5/site-packages/tensorflow/python/framework/ops.py\", line 2260, in create_op\n    original_op=self._default_original_op, op_def=op_def)\n  File \"/Library/Frameworks/Python.framework/Versions/3.5/lib/python3.5/site-packages/tensorflow/python/framework/ops.py\", line 1230, in __init__\n    self._traceback = _extract_stack()\n"
     ]
    }
   ],
   "source": [
    "# main()\n",
    "predict()"
   ]
  },
  {
   "cell_type": "code",
   "execution_count": 31,
   "metadata": {
    "collapsed": false
   },
   "outputs": [
    {
     "data": {
      "text/plain": [
       "array([2, 2])"
      ]
     },
     "execution_count": 31,
     "metadata": {},
     "output_type": "execute_result"
    }
   ],
   "source": [
    "np.r_[[int(c) for c in zsh]] - np.r_[0,1]"
   ]
  }
 ],
 "metadata": {
  "kernelspec": {
   "display_name": "Python 3",
   "language": "python",
   "name": "python3"
  },
  "language_info": {
   "codemirror_mode": {
    "name": "ipython",
    "version": 3
   },
   "file_extension": ".py",
   "mimetype": "text/x-python",
   "name": "python",
   "nbconvert_exporter": "python",
   "pygments_lexer": "ipython3",
   "version": "3.5.1"
  }
 },
 "nbformat": 4,
 "nbformat_minor": 0
}
