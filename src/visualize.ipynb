{
 "cells": [
  {
   "cell_type": "code",
   "execution_count": 1,
   "metadata": {
    "collapsed": false
   },
   "outputs": [],
   "source": [
    "import os\n",
    "import sys\n",
    "import numpy as np\n",
    "import pandas as pd\n",
    "import tensorflow as tf\n",
    "from footprint_poisson import footprint_poisson\n",
    "import matplotlib.pyplot as plt\n",
    "%matplotlib inline"
   ]
  },
  {
   "cell_type": "code",
   "execution_count": 2,
   "metadata": {
    "collapsed": false
   },
   "outputs": [
    {
     "name": "stdout",
     "output_type": "stream",
     "text": [
      "<tensorflow.python.platform.flags._FlagValues object at 0x10d5d38d0>\n"
     ]
    }
   ],
   "source": [
    "flags = tf.app.flags\n",
    "flags.DEFINE_boolean('predict', False, 'If true, predicts')\n",
    "flags.DEFINE_string('checkpoints',\"checkpoints/\" , 'If true, predicts')\n",
    "flags.DEFINE_string('logdir',\"logs/\" , 'If true, predicts')\n",
    "FLAGS = flags.FLAGS\n",
    "print(flags.FLAGS)\n",
    "FLAGS.batch_size = 128\n",
    "# define flags (note that Fomoro will not pass any flags by default)\n",
    "# flags.DEFINE_boolean('skip-training', False, 'If true, skip training the model.')\n",
    "# flags.DEFINE_boolean('restore', False, 'If true, restore the model from the latest checkpoint.')\n",
    "\n",
    "# define artifact directories where results from the session can be saved\n",
    "model_path = os.environ.get('MODEL_PATH', 'models/')\n",
    "checkpoint_path = os.environ.get('CHECKPOINT_PATH', 'checkpoints/')\n",
    "summary_path = os.environ.get('SUMMARY_PATH', 'logs/')\n",
    "\n",
    "\"paths to the data sets\"\n",
    "pivotdir = \"../data/\"\n",
    "dbdir = \"../data/\"\n",
    "\n",
    "#infile = pivotdir+ \"IGTB1077.batf_disc1.offsets_1000_1.pivot.tab\"\n",
    "#nrows = None\n",
    "#ydf = pd.read_table(infile, index_col=[0,1], nrows = nrows)\n",
    "\n",
    "dbpath = dbdir + \"batf_disc1.offsets_1000_1.pivot.db\"\n",
    "import sqlite3\n",
    "conn = sqlite3.connect(dbpath)\n",
    "\n",
    "from match_dna_atac import get_loader\n",
    "#from itertools import cycle\n",
    "train_batchloader = get_loader(conn, where={\"chr\": \"chr21\"})\n",
    "test_batchloader = get_loader(conn, where=\"chr = 'chr22'\")\n",
    "\n",
    "#sys.exit(1)\n",
    "trainsamples = 4000\n",
    "\"initialize the object\"\n",
    "tfl = footprint_poisson(\n",
    "        sparsity = 1e-2,\n",
    "        batch_norm = False,\n",
    "        BATCH_SIZE = 2**8,\n",
    "        dropout = 0.25,\n",
    "        xlen = 2001,\n",
    "        display_step = 100,\n",
    "        xdepth = 4,\n",
    "        weight_decay = 0.0583,\n",
    "        conv1_channels = 128,\n",
    "        conv2_channels = 32,\n",
    "        conv3_channels = 8,\n",
    "        lr = 0.01,\n",
    "        checkpoint_dir = flags.FLAGS.checkpoints,\n",
    "        logdir = flags.FLAGS.logdir,\n",
    "        )"
   ]
  },
  {
   "cell_type": "code",
   "execution_count": 3,
   "metadata": {
    "collapsed": false
   },
   "outputs": [
    {
     "name": "stdout",
     "output_type": "stream",
     "text": [
      "x placeholder (?, 1, 2001, 4)\n",
      "conv1 (?, 1, 2001, 128)\n",
      "conv2 (?, 1, 2001, 32)\n",
      "conv3 (?, 1, 2001, 8)\n",
      "conv_shortcut1 (?, 1, 2001, 8)\n",
      "conv4 (?, 1, 2001, 1)\n"
     ]
    },
    {
     "name": "stderr",
     "output_type": "stream",
     "text": [
      "loading a session\n"
     ]
    },
    {
     "name": "stdout",
     "output_type": "stream",
     "text": [
      "dict_keys(['conv1/weights:0', 'conv1/temperatures:0', 'conv_shortcut1/biases:0', 'conv4/weights:0', 'conv3/weights:0', 'conv_shortcut1/weights:0', 'conv3/biases:0', 'conv1/biases:0', 'conv2/biases:0', 'conv2/weights:0', 'conv4/biases:0', 'gate_3:0'])\n"
     ]
    }
   ],
   "source": [
    "sess = tf.Session()\n",
    "tfl._create_network()\n",
    "tfl._load_(sess)\n",
    "trvars = tf.trainable_variables()\n",
    "trvars = {v.name:v for v in trvars}\n",
    "print(trvars.keys())"
   ]
  },
  {
   "cell_type": "code",
   "execution_count": 4,
   "metadata": {
    "collapsed": false
   },
   "outputs": [],
   "source": [
    "x = trvars['conv1/weights:0']\n",
    "xval = x.eval(sess)"
   ]
  },
  {
   "cell_type": "code",
   "execution_count": 5,
   "metadata": {
    "collapsed": false
   },
   "outputs": [
    {
     "data": {
      "text/plain": [
       "(4,)"
      ]
     },
     "execution_count": 5,
     "metadata": {},
     "output_type": "execute_result"
    }
   ],
   "source": [
    "xval.squeeze().transpose(2,0,1)[0,1].shape"
   ]
  },
  {
   "cell_type": "code",
   "execution_count": 6,
   "metadata": {
    "collapsed": false
   },
   "outputs": [
    {
     "data": {
      "text/plain": [
       "array([[[-0.10878744, -0.41276389, -1.85939848, -1.05384648, -1.05384517],\n",
       "        [-0.00739097, -1.85317111, -1.25013924, -1.05384028, -1.05384171],\n",
       "        [-2.04994965, -1.17789268, -0.14330532, -1.05384743, -1.05384576],\n",
       "        [-1.89227104, -0.2742652 , -0.74103934, -1.05384088, -1.05384266]],\n",
       "\n",
       "       [[-0.65655988, -1.2475574 , -0.44801453, -1.0538429 , -1.0538429 ],\n",
       "        [-0.79800487, -5.45641041, -1.09809995, -1.0538466 , -1.05384529],\n",
       "        [-0.1768574 , -0.37577578, -1.93142927, -1.0538404 , -1.05384195],\n",
       "        [-0.83627039, -0.03734939, -0.87659067, -1.05384517, -1.05384433]],\n",
       "\n",
       "       [[-3.58996844, -0.11163469, -0.03890951, -1.05384099, -1.05384254],\n",
       "        [-0.42556289, -1.14118409, -0.25333804, -1.05385053, -1.05384791],\n",
       "        [-0.44465137, -0.82348299, -1.19094265, -1.05383611, -1.05383968],\n",
       "        [-0.42360899, -0.46475083, -3.62145305, -1.05384743, -1.05384457]],\n",
       "\n",
       "       ..., \n",
       "       [[-0.79140431, -2.76619172, -1.35073888, -1.05384684, -1.05384457],\n",
       "        [-0.85018969, -0.00570429, -0.07270034, -1.05383968, -1.05384195],\n",
       "        [-1.98972893, -0.29008165, -1.66797733, -1.05384684, -1.05384517],\n",
       "        [-0.4675791 , -0.93292063, -0.31217727, -1.05384171, -1.05384326]],\n",
       "\n",
       "       [[-3.6658392 , -0.0727599 , -2.31604838, -1.0538466 , -1.05384541],\n",
       "        [-1.80383062, -1.15882766, -4.2185235 , -1.0538404 , -1.05384135],\n",
       "        [-0.84234357, -0.26625606, -0.30081612, -1.05384767, -1.05384588],\n",
       "        [-0.01912348, -1.41012824, -1.59524322, -1.05384004, -1.05384231]],\n",
       "\n",
       "       [[-1.1793983 , -0.27103227, -0.61980367, -1.05384064, -1.05384278],\n",
       "        [-1.71206522, -0.33894604, -0.15906206, -1.05384946, -1.05384684],\n",
       "        [-3.45206356, -1.02324402, -1.08389318, -1.05383801, -1.05384111],\n",
       "        [-0.57007611, -0.04074411, -1.05384552, -1.0538466 , -1.05384445]]], dtype=float32)"
      ]
     },
     "execution_count": 6,
     "metadata": {},
     "output_type": "execute_result"
    }
   ],
   "source": [
    "xval[0].transpose(2,1,0)"
   ]
  },
  {
   "cell_type": "code",
   "execution_count": 7,
   "metadata": {
    "collapsed": false
   },
   "outputs": [
    {
     "name": "stdout",
     "output_type": "stream",
     "text": [
      "TCGTT\n",
      "GCAGG\n",
      "CAAGG\n",
      "TTCGG\n",
      "AGCTT\n",
      "CATTT\n",
      "CCCGG\n",
      "AAAGG\n",
      "CCTTT\n",
      "GATGG\n",
      "GCTGG\n",
      "CTCGG\n",
      "ACTTT\n",
      "ATGAG\n",
      "CGGGG\n",
      "TAGGG\n",
      "ACGTT\n",
      "TCCAG\n",
      "CCAGG\n",
      "CTTGG\n",
      "GCTGG\n",
      "GCTGG\n",
      "ATAGG\n",
      "CTGTC\n",
      "GGTGG\n",
      "GGATT\n",
      "AATGG\n",
      "ACTGG\n",
      "GTCGG\n",
      "CCATT\n",
      "TAGGA\n",
      "GAAGG\n",
      "CGTTT\n",
      "TAATT\n",
      "ATTGG\n",
      "TTTTT\n",
      "CGCTT\n",
      "TTGTT\n",
      "ATATT\n",
      "GGGTT\n",
      "GCCTT\n",
      "ATGGG\n",
      "GCGTT\n",
      "GACGG\n",
      "GCGGG\n",
      "CGTGG\n",
      "GGCGG\n",
      "AATTT\n",
      "ACCAG\n",
      "TGGTT\n",
      "TATTT\n",
      "ACTTT\n",
      "GTTGG\n",
      "CACTT\n",
      "ACATT\n",
      "GTGTT\n",
      "GTCTT\n",
      "CGGGG\n",
      "GGCGG\n",
      "TTTTT\n",
      "AGATT\n",
      "AATGG\n",
      "GGGGG\n",
      "GTCGG\n",
      "GTAGG\n",
      "ATAGG\n",
      "CCGGG\n",
      "TGTGG\n",
      "CTGTT\n",
      "GAGAA\n",
      "TGAGG\n",
      "GGATT\n",
      "TTGAA\n",
      "CTGTT\n",
      "TTTTT\n",
      "TCTTT\n",
      "AATTT\n",
      "TGGTT\n",
      "AATAG\n",
      "TGGTT\n",
      "TTTGG\n",
      "GAGGG\n",
      "ATATT\n",
      "CGGGG\n",
      "AGATT\n",
      "CTATT\n",
      "TCAGG\n",
      "CTTTT\n",
      "AATTT\n",
      "ACCGG\n",
      "GCGTT\n",
      "AGTGG\n",
      "AAGGG\n",
      "AATTT\n",
      "GTAGG\n",
      "TGGCT\n",
      "CTCTT\n",
      "CGAGG\n",
      "AAGTT\n",
      "GATTT\n",
      "TGCTT\n",
      "AATTA\n",
      "GTAGG\n",
      "CGTTT\n",
      "TATGG\n",
      "GCGGG\n",
      "GAGGG\n",
      "TTCTT\n",
      "TCCTT\n",
      "ACGGG\n",
      "TCCGG\n",
      "GGTTT\n",
      "CCTGG\n",
      "TGAGA\n",
      "CGCGG\n",
      "ACATT\n",
      "ATGCT\n",
      "GGGGA\n",
      "TTAGG\n",
      "CATAA\n",
      "GTATC\n",
      "GGTTA\n",
      "TCATT\n",
      "ACTTT\n",
      "TATGG\n",
      "CTTTT\n",
      "CAGCT\n",
      "CCTGG\n"
     ]
    }
   ],
   "source": [
    "from match_dna_atac import int_to_nucleotide\n",
    "for ii in range(128):\n",
    "    print(\"\".join(list(np.vectorize(int_to_nucleotide)(np.argmax(xval[0,:,:,ii],axis=1)))) )"
   ]
  },
  {
   "cell_type": "code",
   "execution_count": 8,
   "metadata": {
    "collapsed": false
   },
   "outputs": [
    {
     "data": {
      "text/plain": [
       "1024"
      ]
     },
     "execution_count": 8,
     "metadata": {},
     "output_type": "execute_result"
    }
   ],
   "source": [
    "4**5"
   ]
  },
  {
   "cell_type": "code",
   "execution_count": 9,
   "metadata": {
    "collapsed": false
   },
   "outputs": [
    {
     "data": {
      "text/plain": [
       "array([[ 0.01396206,  0.33054709,  0.32429728,  0.33119357],\n",
       "       [ 0.39209542,  0.14004388,  0.19241546,  0.27544531],\n",
       "       [ 0.46494302,  0.37521017,  0.14691904,  0.01292769],\n",
       "       [ 0.25000072,  0.24999833,  0.25000194,  0.24999911],\n",
       "       [ 0.2500003 ,  0.24999896,  0.25000101,  0.24999979]], dtype=float32)"
      ]
     },
     "execution_count": 9,
     "metadata": {},
     "output_type": "execute_result"
    }
   ],
   "source": [
    "def softmax(x, axis=1):\n",
    "    return np.exp(x)/(np.exp(x).sum(axis=axis)[:,None])\n",
    "\n",
    "softmax(\n",
    "    xval.squeeze().transpose(2,0,1)[2],\n",
    "    axis=1)"
   ]
  },
  {
   "cell_type": "code",
   "execution_count": 18,
   "metadata": {
    "collapsed": false
   },
   "outputs": [
    {
     "data": {
      "text/plain": [
       "[<matplotlib.lines.Line2D at 0x10fec5f28>,\n",
       " <matplotlib.lines.Line2D at 0x10feca0f0>,\n",
       " <matplotlib.lines.Line2D at 0x10feca390>,\n",
       " <matplotlib.lines.Line2D at 0x10feca588>]"
      ]
     },
     "execution_count": 18,
     "metadata": {},
     "output_type": "execute_result"
    },
    {
     "data": {
      "image/png": "[encoded data removed]",
      "text/plain": [
       "<matplotlib.figure.Figure at 0x10fe804e0>"
      ]
     },
     "metadata": {},
     "output_type": "display_data"
    }
   ],
   "source": [
    "t = np.arange(5)\n",
    "# plt.stem(t, xval[0].transpose(2,1,0)[0].T)\n",
    "plt.plot(t, softmax(xval.squeeze().transpose(2,0,1)[4]),)"
   ]
  },
  {
   "cell_type": "code",
   "execution_count": 11,
   "metadata": {
    "collapsed": false
   },
   "outputs": [
    {
     "data": {
      "text/plain": [
       "array([ 1.20605803,  1.59281969,  2.22193074,  2.24920177], dtype=float32)"
      ]
     },
     "execution_count": 11,
     "metadata": {},
     "output_type": "execute_result"
    }
   ],
   "source": [
    "x = xval.squeeze().transpose(2,0,1)[7]\n",
    "-(x*(2**x)).sum(0)#.mean()"
   ]
  },
  {
   "cell_type": "code",
   "execution_count": 12,
   "metadata": {
    "collapsed": false
   },
   "outputs": [],
   "source": [
    "inflist = []\n",
    "for nn, x in enumerate(xval.squeeze().transpose(2,0,1)):\n",
    "    inflist.append((nn, -(x*(2**x)).sum(0).mean() ))\n",
    "inflist = pd.DataFrame(inflist, columns=[\"ind\", \"info\"])[\"info\"]"
   ]
  },
  {
   "cell_type": "code",
   "execution_count": 13,
   "metadata": {
    "collapsed": false
   },
   "outputs": [
    {
     "data": {
      "text/plain": [
       "94     2.438534\n",
       "117    2.432468\n",
       "90     2.365207\n",
       "17     2.302182\n",
       "11     2.280813\n",
       "Name: info, dtype: float64"
      ]
     },
     "execution_count": 13,
     "metadata": {},
     "output_type": "execute_result"
    }
   ],
   "source": [
    "inflist.sort_values(ascending=False)[:5]"
   ]
  },
  {
   "cell_type": "code",
   "execution_count": 14,
   "metadata": {
    "collapsed": false
   },
   "outputs": [
    {
     "data": {
      "text/plain": [
       "<matplotlib.axes._subplots.AxesSubplot at 0x10f4adcc0>"
      ]
     },
     "execution_count": 14,
     "metadata": {},
     "output_type": "execute_result"
    },
    {
     "data": {
      "image/png": "[encoded data removed]",
      "text/plain": [
       "<matplotlib.figure.Figure at 0x10f42e198>"
      ]
     },
     "metadata": {},
     "output_type": "display_data"
    }
   ],
   "source": [
    "inflist.hist()"
   ]
  },
  {
   "cell_type": "code",
   "execution_count": 15,
   "metadata": {
    "collapsed": false
   },
   "outputs": [
    {
     "name": "stdout",
     "output_type": "stream",
     "text": [
      "predicting\n"
     ]
    },
    {
     "ename": "OperationalError",
     "evalue": "no such table: batf_seq_dna_atac",
     "output_type": "error",
     "traceback": [
      "\u001b[0;31m----------------------------------\u001b[0m",
      "\u001b[0;31mOperationalError\u001b[0mTraceback (most recent call last)",
      "\u001b[0;32m<ipython-input-15-ec4379a3fe44>\u001b[0m in \u001b[0;36m<module>\u001b[0;34m()\u001b[0m\n\u001b[1;32m      4\u001b[0m \u001b[0myhat_list\u001b[0m \u001b[0;34m=\u001b[0m \u001b[0;34m[\u001b[0m\u001b[0;34m]\u001b[0m\u001b[0;34m\u001b[0m\u001b[0m\n\u001b[1;32m      5\u001b[0m \u001b[0my_list\u001b[0m \u001b[0;34m=\u001b[0m \u001b[0;34m[\u001b[0m\u001b[0;34m]\u001b[0m\u001b[0;34m\u001b[0m\u001b[0m\n\u001b[0;32m----> 6\u001b[0;31m \u001b[0;32mfor\u001b[0m \u001b[0mnn\u001b[0m\u001b[0;34m,\u001b[0m \u001b[0;34m(\u001b[0m\u001b[0mxx\u001b[0m\u001b[0;34m,\u001b[0m \u001b[0myy\u001b[0m\u001b[0;34m)\u001b[0m \u001b[0;32min\u001b[0m \u001b[0menumerate\u001b[0m\u001b[0;34m(\u001b[0m\u001b[0mtestbl\u001b[0m\u001b[0;34m)\u001b[0m\u001b[0;34m:\u001b[0m\u001b[0;34m\u001b[0m\u001b[0m\n\u001b[0m\u001b[1;32m      7\u001b[0m     \u001b[0;34m\"initialize the object\"\u001b[0m\u001b[0;34m\u001b[0m\u001b[0m\n\u001b[1;32m      8\u001b[0m     tfl = footprint_poisson(\n",
      "\u001b[0;32m/Users/dlituiev/repos/qtl_atac_rna/tfmotifs/poisson_footprints/src/match_dna_atac.py\u001b[0m in \u001b[0;36mget_seq_batch\u001b[0;34m(conn, size, align, where, binary)\u001b[0m\n\u001b[1;32m    116\u001b[0m     \u001b[0mdecoder\u001b[0m \u001b[0;34m=\u001b[0m \u001b[0mblob_to_binary_dna\u001b[0m \u001b[0;32mif\u001b[0m \u001b[0mbinary\u001b[0m \u001b[0;32melse\u001b[0m \u001b[0mblob_to_quaternary_dna\u001b[0m\u001b[0;34m\u001b[0m\u001b[0m\n\u001b[1;32m    117\u001b[0m     \u001b[0;32mfor\u001b[0m \u001b[0mnn\u001b[0m\u001b[0;34m,\u001b[0m \u001b[0;34m(\u001b[0m\u001b[0mchrs\u001b[0m\u001b[0;34m,\u001b[0m \u001b[0mpos\u001b[0m\u001b[0;34m,\u001b[0m \u001b[0mbinseq\u001b[0m\u001b[0;34m,\u001b[0m \u001b[0mcount_str\u001b[0m\u001b[0;34m)\u001b[0m \u001b[0;32min\u001b[0m\u001b[0;31m \u001b[0m\u001b[0;31m\\\u001b[0m\u001b[0;34m\u001b[0m\u001b[0m\n\u001b[0;32m--> 118\u001b[0;31m             \u001b[0menumerate\u001b[0m\u001b[0;34m(\u001b[0m\u001b[0mget_bin_seqs\u001b[0m\u001b[0;34m(\u001b[0m\u001b[0mconn\u001b[0m\u001b[0;34m,\u001b[0m \u001b[0mwhere\u001b[0m\u001b[0;34m=\u001b[0m\u001b[0mwhere\u001b[0m\u001b[0;34m)\u001b[0m\u001b[0;34m)\u001b[0m\u001b[0;34m:\u001b[0m\u001b[0;34m\u001b[0m\u001b[0m\n\u001b[0m\u001b[1;32m    119\u001b[0m         \u001b[0;31m#print(chrs, pos)\u001b[0m\u001b[0;34m\u001b[0m\u001b[0;34m\u001b[0m\u001b[0m\n\u001b[1;32m    120\u001b[0m         \u001b[0mx_\u001b[0m \u001b[0;34m=\u001b[0m \u001b[0mdecoder\u001b[0m\u001b[0;34m(\u001b[0m\u001b[0mbinseq\u001b[0m\u001b[0;34m)\u001b[0m\u001b[0;34m\u001b[0m\u001b[0m\n",
      "\u001b[0;32m/Users/dlituiev/repos/qtl_atac_rna/tfmotifs/poisson_footprints/src/match_dna_atac.py\u001b[0m in \u001b[0;36mget_bin_seqs\u001b[0;34m(conn, where, tablename)\u001b[0m\n\u001b[1;32m    103\u001b[0m         \u001b[0mwhere\u001b[0m \u001b[0;34m=\u001b[0m \u001b[0;34m\"\"\u001b[0m\u001b[0;34m\u001b[0m\u001b[0m\n\u001b[1;32m    104\u001b[0m     \u001b[0mcurs\u001b[0m \u001b[0;34m=\u001b[0m \u001b[0mconn\u001b[0m\u001b[0;34m.\u001b[0m\u001b[0mcursor\u001b[0m\u001b[0;34m(\u001b[0m\u001b[0;34m)\u001b[0m\u001b[0;34m\u001b[0m\u001b[0m\n\u001b[0;32m--> 105\u001b[0;31m     \u001b[0mcurs\u001b[0m\u001b[0;34m.\u001b[0m\u001b[0mexecute\u001b[0m\u001b[0;34m(\u001b[0m\u001b[0;34m\" \"\u001b[0m\u001b[0;34m.\u001b[0m\u001b[0mjoin\u001b[0m\u001b[0;34m(\u001b[0m\u001b[0;34m[\u001b[0m\u001b[0;34m\"SELECT * from\"\u001b[0m\u001b[0;34m,\u001b[0m \u001b[0mtablename\u001b[0m\u001b[0;34m,\u001b[0m \u001b[0mwhere\u001b[0m\u001b[0;34m]\u001b[0m\u001b[0;34m)\u001b[0m\u001b[0;34m)\u001b[0m\u001b[0;34m\u001b[0m\u001b[0m\n\u001b[0m\u001b[1;32m    106\u001b[0m     \u001b[0;32mwhile\u001b[0m \u001b[0;32mTrue\u001b[0m\u001b[0;34m:\u001b[0m\u001b[0;34m\u001b[0m\u001b[0m\n\u001b[1;32m    107\u001b[0m         \u001b[0mdna_row\u001b[0m \u001b[0;34m=\u001b[0m \u001b[0mcurs\u001b[0m\u001b[0;34m.\u001b[0m\u001b[0mfetchone\u001b[0m\u001b[0;34m(\u001b[0m\u001b[0;34m)\u001b[0m\u001b[0;34m\u001b[0m\u001b[0m\n",
      "\u001b[0;31mOperationalError\u001b[0m: no such table: batf_seq_dna_atac"
     ]
    }
   ],
   "source": [
    "print(\"predicting\")\n",
    "test_batchloader = get_loader(conn, where=\"chr = 'chr22'\", binary=False)\n",
    "testbl = test_batchloader(500)\n",
    "yhat_list = []\n",
    "y_list = []\n",
    "for nn, (xx, yy) in enumerate(testbl):\n",
    "    \"initialize the object\"\n",
    "    tfl = footprint_poisson(\n",
    "            sparsity = 1e-2,\n",
    "            batch_norm = False,\n",
    "            BATCH_SIZE = 2**8,\n",
    "            dropout = 0.25,\n",
    "            xlen = 2001,\n",
    "            display_step = 100,\n",
    "            xdepth = 4,\n",
    "            weight_decay = 0.0583,\n",
    "            conv1_channels = 128,\n",
    "            conv2_channels = 32,\n",
    "            conv3_channels = 8,\n",
    "            lr = 0.01,\n",
    "            checkpoint_dir = flags.FLAGS.checkpoints,\n",
    "            logdir = flags.FLAGS.logdir,\n",
    "            )\n",
    "\n",
    "    print(nn)\n",
    "    yhat = tfl.predict(xx)\n",
    "    yhat_list.append(yhat)\n",
    "    y_list.append(yy)\n",
    "    break"
   ]
  },
  {
   "cell_type": "code",
   "execution_count": null,
   "metadata": {
    "collapsed": false
   },
   "outputs": [],
   "source": [
    "all_yhat = np.stack(yhat_list)\n",
    "tt = np.arange(len(yhat[0])) - 1000\n",
    "valid = abs(tt) < 100\n",
    "plt.plot(tt[valid], (all_yhat.mean(0).mean(0)[valid]))\n"
   ]
  },
  {
   "cell_type": "code",
   "execution_count": null,
   "metadata": {
    "collapsed": false
   },
   "outputs": [],
   "source": [
    "all_yhat = np.stack(yhat_list)\n",
    "tt = np.arange(len(yhat[0])) - 1000\n",
    "valid = abs(tt) < 50\n",
    "yhat_mean = all_yhat.mean(0).mean(0)\n",
    "print(\"yhat_mean\", yhat_mean.shape)\n",
    "yhat_var = all_yhat.reshape(-1, all_yhat.shape[-1]).var(0)\n",
    "y_mean = np.mean(np.mean( np.stack(y_list), axis=0 ), axis=0)\n",
    "print(\"y_mean\", y_mean.shape)\n",
    "print(yhat_var.shape)\n",
    "fig, axs = plt.subplots(2)\n",
    "axs[0].plot(tt[valid], np.exp(yhat_mean[valid]), c=\"b\", zorder=1, lw=2 )\n",
    "axs[0].plot(tt[valid], (yhat_var[valid]), c=\"g\", zorder=2 )\n",
    "axs[0].set_ylim(np.exp(np.r_[ min(yhat_mean[valid]), max(yhat_mean[valid]) ]))\n",
    "print(min(yhat_var[valid]), max(yhat_var[valid]))\n",
    "#axs[0].set_xlim([0, np.exp(max(yhat[0]))+0.01 ])\n",
    "#for t_ in tt[ (y_mean>0) & valid]:\n",
    "#    axs[0].axvline(t_, c='r')\n",
    "#ax.scatter(tt, yy[0],c=(1,0,0,1), edgecolors=\"none\", zorder=2 )\n",
    "axs[1].plot(tt[valid], y_mean[valid], c='r')\n",
    "#axs[1].stem(tt[valid], y_mean[valid], markerfmt='ro',linefmt='r-',\n",
    "#            edgecolors=\"none\", zorder=2 )\n",
    "#axs[1].set_xlim([0, max(yy[0]+1)])"
   ]
  }
 ],
 "metadata": {
  "kernelspec": {
   "display_name": "Python 3",
   "language": "python",
   "name": "python3"
  },
  "language_info": {
   "codemirror_mode": {
    "name": "ipython",
    "version": 3
   },
   "file_extension": ".py",
   "mimetype": "text/x-python",
   "name": "python",
   "nbconvert_exporter": "python",
   "pygments_lexer": "ipython3",
   "version": "3.5.1"
  }
 },
 "nbformat": 4,
 "nbformat_minor": 0
}
