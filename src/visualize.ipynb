{
 "cells": [
  {
   "cell_type": "code",
   "execution_count": 1,
   "metadata": {
    "collapsed": false
   },
   "outputs": [],
   "source": [
    "import os\n",
    "import sys\n",
    "import numpy as np\n",
    "import tensorflow as tf\n",
    "from footprint_poisson import footprint_poisson\n",
    "import matplotlib.pyplot as plt\n",
    "%matplotlib inline"
   ]
  },
  {
   "cell_type": "code",
   "execution_count": 2,
   "metadata": {
    "collapsed": false
   },
   "outputs": [],
   "source": [
    "flags = tf.app.flags\n",
    "FLAGS = flags.FLAGS\n",
    "FLAGS.batch_size = 128\n",
    "\n",
    "# define flags (note that Fomoro will not pass any flags by default)\n",
    "# flags.DEFINE_boolean('skip-training', False, 'If true, skip training the model.')\n",
    "# flags.DEFINE_boolean('restore', False, 'If true, restore the model from the latest checkpoint.')\n",
    "\n",
    "# define artifact directories where results from the session can be saved\n",
    "model_path = os.environ.get('MODEL_PATH', 'models/')\n",
    "checkpoint_path = os.environ.get('CHECKPOINT_PATH', 'checkpoints/')\n",
    "summary_path = os.environ.get('SUMMARY_PATH', 'logs/')\n",
    "\n",
    "\"paths to the data sets\"\n",
    "pivotdir = \"../data/\"\n",
    "dbdir = \"../data/\"\n",
    "\n",
    "#infile = pivotdir+ \"IGTB1077.batf_disc1.offsets_1000_1.pivot.tab\"\n",
    "#nrows = None\n",
    "#ydf = pd.read_table(infile, index_col=[0,1], nrows = nrows)\n",
    "\n",
    "dbpath = dbdir + \"batf_disc1.offsets_1000_1.pivot.db\"\n",
    "import sqlite3\n",
    "conn = sqlite3.connect(dbpath)\n",
    "\n",
    "from match_dna_atac import get_aligned_batch, get_loader\n",
    "#from itertools import cycle\n",
    "train_batchloader = get_loader(conn, where={\"chr\": \"chr21\"})\n",
    "test_batchloader = get_loader(conn, where=\"chr = 'chr22'\")\n",
    "\n",
    "#sys.exit(1)\n",
    "trainsamples = 4000\n",
    "\n",
    "tfl = footprint_poisson(\n",
    "        sparsity = 1e-2,\n",
    "        batch_norm = False,\n",
    "        BATCH_SIZE = 2**8,\n",
    "        dropout = 0.5,\n",
    "        xlen = 2001,\n",
    "        display_step = 100,\n",
    "        xdepth = 4,\n",
    "        weight_decay = 0.02583,\n",
    "        conv1_channels = 128,\n",
    "        conv2_channels = 32,\n",
    "        tconv1_channels = 32,\n",
    "        lr = 0.1,\n",
    "        )"
   ]
  },
  {
   "cell_type": "code",
   "execution_count": 3,
   "metadata": {
    "collapsed": false
   },
   "outputs": [
    {
     "name": "stdout",
     "output_type": "stream",
     "text": [
      "x placeholder (?, 1, 2001, 4)\n",
      "conv1 (?, 1, 2001, 128)\n",
      "conv2 (?, 1, 2001, 32)\n",
      "conv3 (?, 1, 2001, 32)\n",
      "tconv1 [<tf.Tensor 'Squeeze:0' shape=() dtype=int32>, <tf.Tensor 'tconv1/sub_4:0' shape=() dtype=int32>, <tf.Tensor 'tconv1/sub_5:0' shape=() dtype=int32>, 32]\n",
      "tconv2 [<tf.Tensor 'Squeeze:0' shape=() dtype=int32>, <tf.Tensor 'tconv2/sub_4:0' shape=() dtype=int32>, <tf.Tensor 'tconv2/sub_5:0' shape=() dtype=int32>, 1]\n"
     ]
    },
    {
     "name": "stderr",
     "output_type": "stream",
     "text": [
      "loading a session\n",
      "checkpoint: model_checkpoint_path: \"./checkpoints/model.ckpt-49\"\n",
      "all_model_checkpoint_paths: \"./checkpoints/model.ckpt-45\"\n",
      "all_model_checkpoint_paths: \"./checkpoints/model.ckpt-46\"\n",
      "all_model_checkpoint_paths: \"./checkpoints/model.ckpt-47\"\n",
      "all_model_checkpoint_paths: \"./checkpoints/model.ckpt-48\"\n",
      "all_model_checkpoint_paths: \"./checkpoints/model.ckpt-49\"\n",
      "\n"
     ]
    },
    {
     "name": "stdout",
     "output_type": "stream",
     "text": [
      "dict_keys(['conv2/biases:0', 'conv1/biases:0', 'gate_2_3:0', 'tconv1/weights:0', 'conv3/biases:0', 'conv2/weights:0', 'conv1/weights:0', 'tconv2/weights:0', 'conv3/weights:0'])\n"
     ]
    }
   ],
   "source": [
    "sess = tf.Session()\n",
    "tfl._create_network()\n",
    "tfl._load_(sess)\n",
    "trvars = tf.trainable_variables()\n",
    "trvars = {v.name:v for v in trvars}\n",
    "print(trvars.keys())"
   ]
  },
  {
   "cell_type": "code",
   "execution_count": 8,
   "metadata": {
    "collapsed": false
   },
   "outputs": [],
   "source": [
    "x = trvars['conv1/weights:0']\n",
    "xval = x.eval(sess)"
   ]
  },
  {
   "cell_type": "code",
   "execution_count": 9,
   "metadata": {
    "collapsed": false
   },
   "outputs": [
    {
     "data": {
      "text/plain": [
       "(128, 4, 5)"
      ]
     },
     "execution_count": 9,
     "metadata": {},
     "output_type": "execute_result"
    }
   ],
   "source": [
    "xval[0].transpose(2,1,0).shape"
   ]
  },
  {
   "cell_type": "code",
   "execution_count": 24,
   "metadata": {
    "collapsed": false
   },
   "outputs": [
    {
     "name": "stdout",
     "output_type": "stream",
     "text": [
      "GAAGT\n",
      "CATTC\n",
      "CTTGA\n",
      "AATGC\n",
      "ACGCG\n",
      "TACTC\n",
      "TGCGA\n",
      "AGTGA\n",
      "CTGTT\n",
      "GCGCT\n",
      "GGGGG\n",
      "AGGAG\n",
      "ATATC\n",
      "CGGTC\n",
      "ATAGA\n",
      "GTGCG\n",
      "AACGA\n",
      "GGTTA\n",
      "TTATG\n",
      "AGCGG\n",
      "GCGGA\n",
      "AATTT\n",
      "TCTGG\n",
      "AACGA\n",
      "AGCTT\n",
      "CGGTA\n",
      "TAACC\n",
      "TCAAG\n",
      "GCGGT\n",
      "CGCAG\n",
      "CAGCA\n",
      "TCCCT\n",
      "TTAGT\n",
      "AGCTT\n",
      "GTCAT\n",
      "AAAAG\n",
      "CGACA\n",
      "TGTTC\n",
      "CCACG\n",
      "CGATC\n",
      "GAGTG\n",
      "TTTTG\n",
      "CCTTA\n",
      "ATCTC\n",
      "TAGGA\n",
      "AAAGT\n",
      "GCGTT\n",
      "TAAAC\n",
      "GTCAT\n",
      "GCCGG\n",
      "TTCAT\n",
      "ATGAG\n",
      "CTTAT\n",
      "GACTC\n",
      "GTAGC\n",
      "AACTT\n",
      "GCCTT\n",
      "GGGGC\n",
      "AGCGA\n",
      "TCGTG\n",
      "AGACC\n",
      "TCCCA\n",
      "TCAAG\n",
      "CAGAT\n",
      "TTTTA\n",
      "AGAGC\n",
      "AAAGT\n",
      "GCCCC\n",
      "TCTAA\n",
      "TTGCG\n",
      "GTCAA\n",
      "ATGAA\n",
      "TCCCT\n",
      "ACCGT\n",
      "TCTTG\n",
      "ACGTG\n",
      "GCATT\n",
      "TAGAC\n",
      "GGCGT\n",
      "GCTCC\n",
      "GCATG\n",
      "TCATC\n",
      "AGAAT\n",
      "AGGCT\n",
      "GGGTT\n",
      "GAAAC\n",
      "GGCTG\n",
      "ACCTC\n",
      "AGGTG\n",
      "ACCTC\n",
      "AACAG\n",
      "CTCAA\n",
      "CGTCT\n",
      "TTCGG\n",
      "GTCTT\n",
      "TACAT\n",
      "ACAAC\n",
      "GTGAG\n",
      "ATGGT\n",
      "CGCAA\n",
      "GTTTT\n",
      "GGCTT\n",
      "TGGGT\n",
      "TCCTA\n",
      "AGCTC\n",
      "TCCTA\n",
      "ATCAG\n",
      "ACTGC\n",
      "CACGA\n",
      "TGAGT\n",
      "GGTGG\n",
      "CTACG\n",
      "GACAC\n",
      "CTAAG\n",
      "TCAAG\n",
      "TGCCC\n",
      "AGTAC\n",
      "ACAAA\n",
      "CATAT\n",
      "TCTAC\n",
      "CGAAT\n",
      "GGGTC\n",
      "TAAGA\n",
      "AAATC\n",
      "GTCTC\n",
      "TCGTG\n",
      "ATTAT\n",
      "GTGTG\n"
     ]
    }
   ],
   "source": [
    "from match_dna_atac import int_to_nucleotide\n",
    "for ii in range(128):\n",
    "    print(\"\".join(list(np.vectorize(int_to_nucleotide)(np.argmax(xval[0,:,:,ii],axis=1)))) )"
   ]
  },
  {
   "cell_type": "code",
   "execution_count": 10,
   "metadata": {
    "collapsed": false
   },
   "outputs": [
    {
     "ename": "ValueError",
     "evalue": "too many values to unpack (expected 1)",
     "output_type": "error",
     "traceback": [
      "\u001b[0;31m---------------------------------\u001b[0m",
      "\u001b[0;31mValueError\u001b[0mTraceback (most recent call last)",
      "\u001b[0;32m<ipython-input-10-f7a98f4e2661>\u001b[0m in \u001b[0;36m<module>\u001b[0;34m()\u001b[0m\n\u001b[1;32m      1\u001b[0m \u001b[0mt\u001b[0m \u001b[0;34m=\u001b[0m \u001b[0mnp\u001b[0m\u001b[0;34m.\u001b[0m\u001b[0marange\u001b[0m\u001b[0;34m(\u001b[0m\u001b[0;36m5\u001b[0m\u001b[0;34m)\u001b[0m\u001b[0;34m\u001b[0m\u001b[0m\n\u001b[1;32m      2\u001b[0m \u001b[0;31m# plt.stem(t, xval[0].transpose(2,1,0)[0].T)\u001b[0m\u001b[0;34m\u001b[0m\u001b[0;34m\u001b[0m\u001b[0m\n\u001b[0;32m----> 3\u001b[0;31m \u001b[0mplt\u001b[0m\u001b[0;34m.\u001b[0m\u001b[0mstem\u001b[0m\u001b[0;34m(\u001b[0m\u001b[0mt\u001b[0m\u001b[0;34m,\u001b[0m \u001b[0mxval\u001b[0m\u001b[0;34m[\u001b[0m\u001b[0;36m0\u001b[0m\u001b[0;34m]\u001b[0m\u001b[0;34m.\u001b[0m\u001b[0mtranspose\u001b[0m\u001b[0;34m(\u001b[0m\u001b[0;36m2\u001b[0m\u001b[0;34m,\u001b[0m\u001b[0;36m1\u001b[0m\u001b[0;34m,\u001b[0m\u001b[0;36m0\u001b[0m\u001b[0;34m)\u001b[0m\u001b[0;34m[\u001b[0m\u001b[0;36m0\u001b[0m\u001b[0;34m]\u001b[0m\u001b[0;34m.\u001b[0m\u001b[0mT\u001b[0m\u001b[0;34m,\u001b[0m\u001b[0;34m)\u001b[0m\u001b[0;34m\u001b[0m\u001b[0m\n\u001b[0m",
      "\u001b[0;32m/Library/Frameworks/Python.framework/Versions/3.5/lib/python3.5/site-packages/matplotlib/pyplot.py\u001b[0m in \u001b[0;36mstem\u001b[0;34m(*args, **kwargs)\u001b[0m\n\u001b[1;32m   3341\u001b[0m         \u001b[0max\u001b[0m\u001b[0;34m.\u001b[0m\u001b[0mhold\u001b[0m\u001b[0;34m(\u001b[0m\u001b[0mhold\u001b[0m\u001b[0;34m)\u001b[0m\u001b[0;34m\u001b[0m\u001b[0m\n\u001b[1;32m   3342\u001b[0m     \u001b[0;32mtry\u001b[0m\u001b[0;34m:\u001b[0m\u001b[0;34m\u001b[0m\u001b[0m\n\u001b[0;32m-> 3343\u001b[0;31m         \u001b[0mret\u001b[0m \u001b[0;34m=\u001b[0m \u001b[0max\u001b[0m\u001b[0;34m.\u001b[0m\u001b[0mstem\u001b[0m\u001b[0;34m(\u001b[0m\u001b[0;34m*\u001b[0m\u001b[0margs\u001b[0m\u001b[0;34m,\u001b[0m \u001b[0;34m**\u001b[0m\u001b[0mkwargs\u001b[0m\u001b[0;34m)\u001b[0m\u001b[0;34m\u001b[0m\u001b[0m\n\u001b[0m\u001b[1;32m   3344\u001b[0m     \u001b[0;32mfinally\u001b[0m\u001b[0;34m:\u001b[0m\u001b[0;34m\u001b[0m\u001b[0m\n\u001b[1;32m   3345\u001b[0m         \u001b[0max\u001b[0m\u001b[0;34m.\u001b[0m\u001b[0mhold\u001b[0m\u001b[0;34m(\u001b[0m\u001b[0mwashold\u001b[0m\u001b[0;34m)\u001b[0m\u001b[0;34m\u001b[0m\u001b[0m\n",
      "\u001b[0;32m/Library/Frameworks/Python.framework/Versions/3.5/lib/python3.5/site-packages/matplotlib/__init__.py\u001b[0m in \u001b[0;36minner\u001b[0;34m(ax, *args, **kwargs)\u001b[0m\n\u001b[1;32m   1810\u001b[0m                     warnings.warn(msg % (label_namer, func.__name__),\n\u001b[1;32m   1811\u001b[0m                                   RuntimeWarning, stacklevel=2)\n\u001b[0;32m-> 1812\u001b[0;31m             \u001b[0;32mreturn\u001b[0m \u001b[0mfunc\u001b[0m\u001b[0;34m(\u001b[0m\u001b[0max\u001b[0m\u001b[0;34m,\u001b[0m \u001b[0;34m*\u001b[0m\u001b[0margs\u001b[0m\u001b[0;34m,\u001b[0m \u001b[0;34m**\u001b[0m\u001b[0mkwargs\u001b[0m\u001b[0;34m)\u001b[0m\u001b[0;34m\u001b[0m\u001b[0m\n\u001b[0m\u001b[1;32m   1813\u001b[0m         \u001b[0mpre_doc\u001b[0m \u001b[0;34m=\u001b[0m \u001b[0minner\u001b[0m\u001b[0;34m.\u001b[0m\u001b[0m__doc__\u001b[0m\u001b[0;34m\u001b[0m\u001b[0m\n\u001b[1;32m   1814\u001b[0m         \u001b[0;32mif\u001b[0m \u001b[0mpre_doc\u001b[0m \u001b[0;32mis\u001b[0m \u001b[0;32mNone\u001b[0m\u001b[0;34m:\u001b[0m\u001b[0;34m\u001b[0m\u001b[0m\n",
      "\u001b[0;32m/Library/Frameworks/Python.framework/Versions/3.5/lib/python3.5/site-packages/matplotlib/axes/_axes.py\u001b[0m in \u001b[0;36mstem\u001b[0;34m(self, *args, **kwargs)\u001b[0m\n\u001b[1;32m   2417\u001b[0m         \u001b[0mlabel\u001b[0m \u001b[0;34m=\u001b[0m \u001b[0mkwargs\u001b[0m\u001b[0;34m.\u001b[0m\u001b[0mpop\u001b[0m\u001b[0;34m(\u001b[0m\u001b[0;34m'label'\u001b[0m\u001b[0;34m,\u001b[0m \u001b[0;32mNone\u001b[0m\u001b[0;34m)\u001b[0m\u001b[0;34m\u001b[0m\u001b[0m\n\u001b[1;32m   2418\u001b[0m \u001b[0;34m\u001b[0m\u001b[0m\n\u001b[0;32m-> 2419\u001b[0;31m         \u001b[0mmarkerline\u001b[0m\u001b[0;34m,\u001b[0m \u001b[0;34m=\u001b[0m \u001b[0mself\u001b[0m\u001b[0;34m.\u001b[0m\u001b[0mplot\u001b[0m\u001b[0;34m(\u001b[0m\u001b[0mx\u001b[0m\u001b[0;34m,\u001b[0m \u001b[0my\u001b[0m\u001b[0;34m,\u001b[0m \u001b[0mmarkerfmt\u001b[0m\u001b[0;34m,\u001b[0m \u001b[0mlabel\u001b[0m\u001b[0;34m=\u001b[0m\u001b[0;34m\"_nolegend_\"\u001b[0m\u001b[0;34m)\u001b[0m\u001b[0;34m\u001b[0m\u001b[0m\n\u001b[0m\u001b[1;32m   2420\u001b[0m \u001b[0;34m\u001b[0m\u001b[0m\n\u001b[1;32m   2421\u001b[0m         \u001b[0;32mif\u001b[0m \u001b[0mbottom\u001b[0m \u001b[0;32mis\u001b[0m \u001b[0;32mNone\u001b[0m\u001b[0;34m:\u001b[0m\u001b[0;34m\u001b[0m\u001b[0m\n",
      "\u001b[0;31mValueError\u001b[0m: too many values to unpack (expected 1)"
     ]
    },
    {
     "data": {
      "image/png": "[encoded data removed]",
      "text/plain": [
       "<matplotlib.figure.Figure at 0x10fa53e48>"
      ]
     },
     "metadata": {},
     "output_type": "display_data"
    }
   ],
   "source": [
    "t = np.arange(5)\n",
    "# plt.stem(t, xval[0].transpose(2,1,0)[0].T)\n",
    "plt.stem(t, xval[0].transpose(2,1,0)[0].T,)"
   ]
  },
  {
   "cell_type": "code",
   "execution_count": 45,
   "metadata": {
    "collapsed": false
   },
   "outputs": [
    {
     "name": "stdout",
     "output_type": "stream",
     "text": [
      "predicting\n",
      "0\n",
      "x placeholder (?, 1, 2001, 4)\n",
      "conv1 (?, 1, 2001, 128)\n",
      "conv2 (?, 1, 2001, 32)\n",
      "conv3 (?, 1, 2001, 32)\n",
      "tconv1 [<tf.Tensor 'Squeeze:0' shape=() dtype=int32>, <tf.Tensor 'tconv1/sub_4:0' shape=() dtype=int32>, <tf.Tensor 'tconv1/sub_5:0' shape=() dtype=int32>, 32]\n",
      "tconv2 [<tf.Tensor 'Squeeze:0' shape=() dtype=int32>, <tf.Tensor 'tconv2/sub_4:0' shape=() dtype=int32>, <tf.Tensor 'tconv2/sub_5:0' shape=() dtype=int32>, 1]\n"
     ]
    },
    {
     "name": "stderr",
     "output_type": "stream",
     "text": [
      "loading a session\n",
      "checkpoint: model_checkpoint_path: \"./checkpoints/model.ckpt-49\"\n",
      "all_model_checkpoint_paths: \"./checkpoints/model.ckpt-45\"\n",
      "all_model_checkpoint_paths: \"./checkpoints/model.ckpt-46\"\n",
      "all_model_checkpoint_paths: \"./checkpoints/model.ckpt-47\"\n",
      "all_model_checkpoint_paths: \"./checkpoints/model.ckpt-48\"\n",
      "all_model_checkpoint_paths: \"./checkpoints/model.ckpt-49\"\n",
      "\n"
     ]
    }
   ],
   "source": [
    "print(\"predicting\")\n",
    "test_batchloader = get_loader(conn, where=\"chr = 'chr22'\", binary=False)\n",
    "testbl = test_batchloader(500)\n",
    "yhat_list = []\n",
    "y_list = []\n",
    "for nn, (xx, yy) in enumerate(testbl):\n",
    "    tfl = footprint_poisson(\n",
    "            sparsity = 1e-2,\n",
    "            batch_norm = False,\n",
    "            BATCH_SIZE = 2**8,\n",
    "            dropout = 0.5,\n",
    "            xlen = 2001,\n",
    "            display_step = 100,\n",
    "            xdepth = 4,\n",
    "            weight_decay = 0.02583,\n",
    "            conv1_channels = 128,\n",
    "            conv2_channels = 32,\n",
    "            tconv1_channels = 32,\n",
    "            lr = 0.1,\n",
    "            )\n",
    "\n",
    "    print(nn)\n",
    "    yhat = tfl.predict(xx)\n",
    "    yhat_list.append(yhat)\n",
    "    y_list.append(yy)\n",
    "    break"
   ]
  },
  {
   "cell_type": "code",
   "execution_count": 46,
   "metadata": {
    "collapsed": false
   },
   "outputs": [
    {
     "data": {
      "text/plain": [
       "[<matplotlib.lines.Line2D at 0x11aa887f0>]"
      ]
     },
     "execution_count": 46,
     "metadata": {},
     "output_type": "execute_result"
    },
    {
     "data": {
      "image/png": "[encoded data removed]",
      "text/plain": [
       "<matplotlib.figure.Figure at 0x11a1c7128>"
      ]
     },
     "metadata": {},
     "output_type": "display_data"
    }
   ],
   "source": [
    "all_yhat = np.stack(yhat_list)\n",
    "tt = np.arange(len(yhat[0])) - 1000\n",
    "valid = abs(tt) < 100\n",
    "plt.plot(tt[valid], (all_yhat.mean(0).mean(0)[valid]))\n"
   ]
  },
  {
   "cell_type": "code",
   "execution_count": 39,
   "metadata": {
    "collapsed": false
   },
   "outputs": [
    {
     "name": "stdout",
     "output_type": "stream",
     "text": [
      "yhat_mean (2001,)\n",
      "y_mean (2001,)\n",
      "(2001,)\n",
      "0.118739 0.162564\n"
     ]
    },
    {
     "data": {
      "text/plain": [
       "[<matplotlib.lines.Line2D at 0x10fb013c8>]"
      ]
     },
     "execution_count": 39,
     "metadata": {},
     "output_type": "execute_result"
    },
    {
     "data": {
      "image/png": "[encoded data removed]",
      "text/plain": [
       "<matplotlib.figure.Figure at 0x10fb98ef0>"
      ]
     },
     "metadata": {},
     "output_type": "display_data"
    }
   ],
   "source": [
    "all_yhat = np.stack(yhat_list)\n",
    "tt = np.arange(len(yhat[0])) - 1000\n",
    "valid = abs(tt) < 50\n",
    "yhat_mean = all_yhat.mean(0).mean(0)\n",
    "print(\"yhat_mean\", yhat_mean.shape)\n",
    "yhat_var = all_yhat.reshape(-1, all_yhat.shape[-1]).var(0)\n",
    "y_mean = np.mean(np.mean( np.stack(y_list), axis=0 ), axis=0)\n",
    "print(\"y_mean\", y_mean.shape)\n",
    "print(yhat_var.shape)\n",
    "fig, axs = plt.subplots(2)\n",
    "axs[0].plot(tt[valid], np.exp(yhat_mean[valid]), c=\"b\", zorder=1, lw=2 )\n",
    "axs[0].plot(tt[valid], (yhat_var[valid]), c=\"g\", zorder=2 )\n",
    "axs[0].set_ylim(np.exp(np.r_[ min(yhat_mean[valid]), max(yhat_mean[valid]) ]))\n",
    "print(min(yhat_var[valid]), max(yhat_var[valid]))\n",
    "#axs[0].set_xlim([0, np.exp(max(yhat[0]))+0.01 ])\n",
    "#for t_ in tt[ (y_mean>0) & valid]:\n",
    "#    axs[0].axvline(t_, c='r')\n",
    "#ax.scatter(tt, yy[0],c=(1,0,0,1), edgecolors=\"none\", zorder=2 )\n",
    "axs[1].plot(tt[valid], y_mean[valid], c='r')\n",
    "#axs[1].stem(tt[valid], y_mean[valid], markerfmt='ro',linefmt='r-',\n",
    "#            edgecolors=\"none\", zorder=2 )\n",
    "#axs[1].set_xlim([0, max(yy[0]+1)])"
   ]
  }
 ],
 "metadata": {
  "kernelspec": {
   "display_name": "Python 3",
   "language": "python",
   "name": "python3"
  }
 },
 "nbformat": 4,
 "nbformat_minor": 0
}
